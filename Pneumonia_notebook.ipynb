{
 "cells": [
  {
   "cell_type": "code",
   "execution_count": 48,
   "id": "0c3e8f33-03dc-49a7-af14-4a6281433263",
   "metadata": {},
   "outputs": [],
   "source": [
    "import numpy as np\n",
    "import tensorflow as tf\n",
    "from tensorflow import keras\n",
    "import matplotlib.pyplot as plt\n",
    "import seaborn as sns\n",
    "sns.set(style= \"darkgrid\", color_codes = True)\n",
    "from tensorflow.keras.applications import VGG16\n",
    "from tensorflow.keras.models import Sequential\n",
    "from tensorflow.keras.layers import Conv2D, MaxPooling2D, Dense, Flatten, Dropout, Input\n",
    "from keras.regularizers import l2\n",
    "from tensorflow.keras.metrics import Precision, Recall, BinaryAccuracy\n",
    "from sklearn.metrics import roc_curve, auc\n",
    "from tensorflow.keras.preprocessing.image import  load_img\n",
    "import warnings\n",
    "warnings.filterwarnings('ignore')\n",
    "from tensorflow.keras.preprocessing.image import ImageDataGenerator\n",
    "import pickle"
   ]
  },
  {
   "cell_type": "code",
   "execution_count": 7,
   "id": "af237ab7-8365-47d6-82c6-69303108cb49",
   "metadata": {},
   "outputs": [
    {
     "name": "stdout",
     "output_type": "stream",
     "text": [
      "Found 16 files belonging to 2 classes.\n"
     ]
    }
   ],
   "source": [
    "# Define image size and other parameters\n",
    "img_width, img_height = 256, 256\n",
    "batchsize = 32\n",
    "epochs = 4\n",
    "num_of_class = 2\n",
    "\n",
    "validation = keras.utils.image_dataset_from_directory(\n",
    "    directory='Resources/val',\n",
    "    labels='inferred',\n",
    "    label_mode='categorical',\n",
    "    batch_size=batchsize,\n",
    "    image_size=(img_width, img_height))"
   ]
  },
  {
   "cell_type": "code",
   "execution_count": 9,
   "id": "ba7f2631-a5c1-43e6-8d19-f739a748b3fb",
   "metadata": {},
   "outputs": [
    {
     "name": "stdout",
     "output_type": "stream",
     "text": [
      "Found 624 files belonging to 2 classes.\n"
     ]
    }
   ],
   "source": [
    "test = keras. utils.image_dataset_from_directory(\n",
    "    directory='Resources/test',\n",
    "    labels='inferred',\n",
    "    label_mode='categorical',\n",
    "    batch_size=batchsize,\n",
    "    image_size=(img_width, img_height))"
   ]
  },
  {
   "cell_type": "code",
   "execution_count": 10,
   "id": "bd131c08-9e41-4f2e-9bca-ed47f21b775c",
   "metadata": {},
   "outputs": [
    {
     "name": "stdout",
     "output_type": "stream",
     "text": [
      "Found 5216 files belonging to 2 classes.\n"
     ]
    }
   ],
   "source": [
    "train = keras. utils.image_dataset_from_directory(\n",
    "    directory='Resources/train',\n",
    "    labels='inferred',\n",
    "    label_mode='categorical',\n",
    "    batch_size=batchsize,\n",
    "    image_size=(img_width, img_height))"
   ]
  },
  {
   "cell_type": "code",
   "execution_count": 11,
   "id": "393c5c2a-c20b-407a-98e5-efa74a74109c",
   "metadata": {},
   "outputs": [
    {
     "name": "stdout",
     "output_type": "stream",
     "text": [
      "['NORMAL', 'PNEUMONIA']\n",
      "['NORMAL', 'PNEUMONIA']\n",
      "['NORMAL', 'PNEUMONIA']\n"
     ]
    }
   ],
   "source": [
    "print(train.class_names)\n",
    "print(validation.class_names)\n",
    "print(test.class_names)"
   ]
  },
  {
   "cell_type": "code",
   "execution_count": 12,
   "id": "7294e14d-4c1e-4ab3-a56b-e46ca17120b3",
   "metadata": {},
   "outputs": [],
   "source": [
    "x_train = []\n",
    "y_train = []\n",
    "\n",
    "for feature, label in train:\n",
    "    x_train.append(feature.numpy())\n",
    "    y_train.append(label.numpy())\n",
    "\n",
    "x_train = np.concatenate(x_train, axis=0)\n",
    "y_train = np.concatenate(y_train, axis=0)"
   ]
  },
  {
   "cell_type": "code",
   "execution_count": 13,
   "id": "2ddaf708-e229-4871-94ec-82a6206c5267",
   "metadata": {},
   "outputs": [],
   "source": [
    "x_val = []\n",
    "y_val = []\n",
    "    \n",
    "for feature, label in validation:\n",
    "    x_val.append(feature.numpy())\n",
    "    y_val.append(label.numpy())\n",
    "\n",
    "x_val = np.concatenate(x_val, axis=0)\n",
    "\n",
    "y_val = np.concatenate(y_val, axis=0)"
   ]
  },
  {
   "cell_type": "code",
   "execution_count": 14,
   "id": "1b0c626f-30e1-4b53-bfcf-16cb78a191ce",
   "metadata": {},
   "outputs": [],
   "source": [
    "x_test = []\n",
    "y_test = []\n",
    "\n",
    "for feature, label in test:\n",
    "    x_test.append(feature.numpy())\n",
    "    y_test.append(label.numpy())\n",
    "\n",
    "x_test = np.concatenate(x_test, axis=0)\n",
    "y_test = np.concatenate(y_test, axis=0)"
   ]
  },
  {
   "cell_type": "code",
   "execution_count": 15,
   "id": "f7a30d1f-f22c-4535-8513-d4e0260f3f75",
   "metadata": {},
   "outputs": [
    {
     "name": "stdout",
     "output_type": "stream",
     "text": [
      "Shape of 'x_train': (5216, 256, 256, 3)\n",
      "Shape of 'y_train': (5216, 2)\n",
      "Shape of 'x_val': (16, 256, 256, 3)\n",
      "Shape of 'y_val': (16, 2)\n",
      "Shape of 'x_test': (624, 256, 256, 3)\n",
      "Shape of 'y_test': (624, 2)\n"
     ]
    }
   ],
   "source": [
    "# check the shapes of 'x_train' and 'y_train':\n",
    "print(\"Shape of 'x_train':\", x_train.shape)\n",
    "print(\"Shape of 'y_train':\", y_train.shape)\n",
    "print(\"Shape of 'x_val':\", x_val.shape)\n",
    "print(\"Shape of 'y_val':\", y_val.shape)\n",
    "print(\"Shape of 'x_test':\", x_test.shape)\n",
    "print(\"Shape of 'y_test':\", y_test.shape)"
   ]
  },
  {
   "cell_type": "code",
   "execution_count": 16,
   "id": "421c6519-f0f5-4d99-ab98-153b09ccd323",
   "metadata": {},
   "outputs": [],
   "source": [
    "x_train=x_train/255\n",
    "x_val=x_val/255\n",
    "x_test=x_test/255"
   ]
  },
  {
   "cell_type": "code",
   "execution_count": 32,
   "id": "59a00fea-3571-4122-a35b-84723c5e6ee2",
   "metadata": {},
   "outputs": [
    {
     "data": {
      "text/plain": [
       "array([[0., 1.],\n",
       "       [0., 1.],\n",
       "       [1., 0.],\n",
       "       ...,\n",
       "       [0., 1.],\n",
       "       [0., 1.],\n",
       "       [1., 0.]], dtype=float32)"
      ]
     },
     "execution_count": 32,
     "metadata": {},
     "output_type": "execute_result"
    }
   ],
   "source": [
    "y_train"
   ]
  },
  {
   "cell_type": "code",
   "execution_count": 31,
   "id": "a18b9590-c236-49fc-8444-c69606aa27c3",
   "metadata": {},
   "outputs": [],
   "source": [
    "x_train_pneumonia = []\n",
    "x_train_normal = []\n",
    "\n",
    "for i in range(len(x_train)):\n",
    "    if y_train[i][0] == 0:\n",
    "        x_train_pneumonia.append(list(x_train[i]))\n",
    "    else:\n",
    "        x_train_normal.append(list(x_train[i]))\n",
    "\n",
    "x_train_pneumonia = np.array(x_train_pneumonia)\n",
    "x_train_normal = np.array(x_train_normal)"
   ]
  },
  {
   "cell_type": "code",
   "execution_count": 35,
   "id": "3b82a78f-b1c4-46be-801d-6893a7fd626d",
   "metadata": {},
   "outputs": [
    {
     "name": "stdout",
     "output_type": "stream",
     "text": [
      "(3875, 256, 256, 3)\n"
     ]
    }
   ],
   "source": [
    "print(np.shape(x_train_pneumonia))"
   ]
  },
  {
   "cell_type": "code",
   "execution_count": 38,
   "id": "9d057c0b-afea-4238-ab83-890b85656e35",
   "metadata": {},
   "outputs": [
    {
     "data": {
      "text/plain": [
       "array([[0.22990195, 0.22990195, 0.22990195],\n",
       "       [0.24221814, 0.24221814, 0.24221814],\n",
       "       [0.22435279, 0.22435279, 0.22435279],\n",
       "       [0.22352941, 0.22352941, 0.22352941],\n",
       "       [0.21960784, 0.21960784, 0.21960784],\n",
       "       [0.21960784, 0.21960784, 0.21960784],\n",
       "       [0.21568628, 0.21568628, 0.21568628],\n",
       "       [0.22291666, 0.22291666, 0.22291666],\n",
       "       [0.22351983, 0.22351983, 0.22351983],\n",
       "       [0.21804343, 0.21804343, 0.21804343],\n",
       "       [0.21194853, 0.21194853, 0.21194853],\n",
       "       [0.21849915, 0.21849915, 0.21849915],\n",
       "       [0.2105641 , 0.2105641 , 0.2105641 ],\n",
       "       [0.22046569, 0.22046569, 0.22046569],\n",
       "       [0.22487937, 0.22487937, 0.22487937],\n",
       "       [0.23845933, 0.23845933, 0.23845933],\n",
       "       [0.23482499, 0.23482499, 0.23482499],\n",
       "       [0.23921569, 0.23921569, 0.23921569],\n",
       "       [0.24313726, 0.24313726, 0.24313726],\n",
       "       [0.24230431, 0.24230431, 0.24230431],\n",
       "       [0.2465131 , 0.2465131 , 0.2465131 ],\n",
       "       [0.25006127, 0.25006127, 0.25006127],\n",
       "       [0.25502452, 0.25502452, 0.25502452],\n",
       "       [0.26698261, 0.26698261, 0.26698261],\n",
       "       [0.26758578, 0.26758578, 0.26758578],\n",
       "       [0.26758578, 0.26758578, 0.26758578],\n",
       "       [0.26758578, 0.26758578, 0.26758578],\n",
       "       [0.2529469 , 0.2529469 , 0.2529469 ],\n",
       "       [0.26773322, 0.26773322, 0.26773322],\n",
       "       [0.2902746 , 0.2902746 , 0.2902746 ],\n",
       "       [0.30882737, 0.30882737, 0.30882737],\n",
       "       [0.3084348 , 0.3084348 , 0.3084348 ],\n",
       "       [0.31687155, 0.31687155, 0.31687155],\n",
       "       [0.31580883, 0.31580883, 0.31580883],\n",
       "       [0.298696  , 0.298696  , 0.298696  ],\n",
       "       [0.28899547, 0.28899547, 0.28899547],\n",
       "       [0.28492647, 0.28492647, 0.28492647],\n",
       "       [0.26677582, 0.26677582, 0.26677582],\n",
       "       [0.25891736, 0.25891736, 0.25891736],\n",
       "       [0.26666668, 0.26666668, 0.26666668],\n",
       "       [0.26666668, 0.26666668, 0.26666668],\n",
       "       [0.26066175, 0.26066175, 0.26066175],\n",
       "       [0.26066175, 0.26066175, 0.26066175],\n",
       "       [0.2629902 , 0.2629902 , 0.2629902 ],\n",
       "       [0.26283127, 0.26283127, 0.26283127],\n",
       "       [0.2569853 , 0.2569853 , 0.2569853 ],\n",
       "       [0.24797794, 0.24797794, 0.24797794],\n",
       "       [0.25837356, 0.25837356, 0.25837356],\n",
       "       [0.28118873, 0.28118873, 0.28118873],\n",
       "       [0.2867628 , 0.2867628 , 0.2867628 ],\n",
       "       [0.28071576, 0.28071576, 0.28071576],\n",
       "       [0.2793505 , 0.2793505 , 0.2793505 ],\n",
       "       [0.28364545, 0.28364545, 0.28364545],\n",
       "       [0.28634918, 0.28634918, 0.28634918],\n",
       "       [0.30091912, 0.30091912, 0.30091912],\n",
       "       [0.3063151 , 0.3063151 , 0.3063151 ],\n",
       "       [0.32800245, 0.32800245, 0.32800245],\n",
       "       [0.31188726, 0.31188726, 0.31188726],\n",
       "       [0.3146446 , 0.3146446 , 0.3146446 ],\n",
       "       [0.3208946 , 0.3208946 , 0.3208946 ],\n",
       "       [0.34209558, 0.34209558, 0.34209558],\n",
       "       [0.32415938, 0.32415938, 0.32415938],\n",
       "       [0.33087662, 0.33087662, 0.33087662],\n",
       "       [0.354249  , 0.354249  , 0.354249  ],\n",
       "       [0.33464116, 0.33464116, 0.33464116],\n",
       "       [0.3194853 , 0.3194853 , 0.3194853 ],\n",
       "       [0.33568856, 0.33568856, 0.33568856],\n",
       "       [0.33399203, 0.33399203, 0.33399203],\n",
       "       [0.33408013, 0.33408013, 0.33408013],\n",
       "       [0.35653532, 0.35653532, 0.35653532],\n",
       "       [0.35036382, 0.35036382, 0.35036382],\n",
       "       [0.36024243, 0.36024243, 0.36024243],\n",
       "       [0.3446787 , 0.3446787 , 0.3446787 ],\n",
       "       [0.32757354, 0.32757354, 0.32757354],\n",
       "       [0.2939338 , 0.2939338 , 0.2939338 ],\n",
       "       [0.2939338 , 0.2939338 , 0.2939338 ],\n",
       "       [0.31243873, 0.31243873, 0.31243873],\n",
       "       [0.30424517, 0.30424517, 0.30424517],\n",
       "       [0.31881127, 0.31881127, 0.31881127],\n",
       "       [0.3206495 , 0.3206495 , 0.3206495 ],\n",
       "       [0.32532743, 0.32532743, 0.32532743],\n",
       "       [0.3319834 , 0.3319834 , 0.3319834 ],\n",
       "       [0.3313285 , 0.3313285 , 0.3313285 ],\n",
       "       [0.32175246, 0.32175246, 0.32175246],\n",
       "       [0.34467486, 0.34467486, 0.34467486],\n",
       "       [0.34191176, 0.34191176, 0.34191176],\n",
       "       [0.33504903, 0.33504903, 0.33504903],\n",
       "       [0.3458429 , 0.3458429 , 0.3458429 ],\n",
       "       [0.35583064, 0.35583064, 0.35583064],\n",
       "       [0.3636642 , 0.3636642 , 0.3636642 ],\n",
       "       [0.3601237 , 0.3601237 , 0.3601237 ],\n",
       "       [0.37041014, 0.37041014, 0.37041014],\n",
       "       [0.36862746, 0.36862746, 0.36862746],\n",
       "       [0.36770833, 0.36770833, 0.36770833],\n",
       "       [0.39465955, 0.39465955, 0.39465955],\n",
       "       [0.5048866 , 0.5048866 , 0.5048866 ],\n",
       "       [0.5188668 , 0.5188668 , 0.5188668 ],\n",
       "       [0.5187538 , 0.5187538 , 0.5187538 ],\n",
       "       [0.52120095, 0.52120095, 0.52120095],\n",
       "       [0.5087125 , 0.5087125 , 0.5087125 ],\n",
       "       [0.52432597, 0.52432597, 0.52432597],\n",
       "       [0.51303804, 0.51303804, 0.51303804],\n",
       "       [0.4946404 , 0.4946404 , 0.4946404 ],\n",
       "       [0.41707262, 0.41707262, 0.41707262],\n",
       "       [0.40617916, 0.40617916, 0.40617916],\n",
       "       [0.40695274, 0.40695274, 0.40695274],\n",
       "       [0.41018498, 0.41018498, 0.41018498],\n",
       "       [0.4180147 , 0.4180147 , 0.4180147 ],\n",
       "       [0.4310049 , 0.4310049 , 0.4310049 ],\n",
       "       [0.44123775, 0.44123775, 0.44123775],\n",
       "       [0.46396866, 0.46396866, 0.46396866],\n",
       "       [0.47150734, 0.47150734, 0.47150734],\n",
       "       [0.47589806, 0.47589806, 0.47589806],\n",
       "       [0.47297412, 0.47297412, 0.47297412],\n",
       "       [0.45948032, 0.45948032, 0.45948032],\n",
       "       [0.46302658, 0.46302658, 0.46302658],\n",
       "       [0.45974264, 0.45974264, 0.45974264],\n",
       "       [0.4636642 , 0.4636642 , 0.4636642 ],\n",
       "       [0.46550244, 0.46550244, 0.46550244],\n",
       "       [0.469424  , 0.469424  , 0.469424  ],\n",
       "       [0.47334558, 0.47334558, 0.47334558],\n",
       "       [0.4658701 , 0.4658701 , 0.4658701 ],\n",
       "       [0.49319854, 0.49319854, 0.49319854],\n",
       "       [0.49333256, 0.49333256, 0.49333256],\n",
       "       [0.49107882, 0.49107882, 0.49107882],\n",
       "       [0.4932081 , 0.4932081 , 0.4932081 ],\n",
       "       [0.49411765, 0.49411765, 0.49411765],\n",
       "       [0.49620098, 0.49620098, 0.49620098],\n",
       "       [0.48619217, 0.48619217, 0.48619217],\n",
       "       [0.5126187 , 0.5126187 , 0.5126187 ],\n",
       "       [0.52324986, 0.52324986, 0.52324986],\n",
       "       [0.53020835, 0.53020835, 0.53020835],\n",
       "       [0.53768384, 0.53768384, 0.53768384],\n",
       "       [0.5628198 , 0.5628198 , 0.5628198 ],\n",
       "       [0.5623449 , 0.5623449 , 0.5623449 ],\n",
       "       [0.58656174, 0.58656174, 0.58656174],\n",
       "       [0.59681374, 0.59681374, 0.59681374],\n",
       "       [0.6133291 , 0.6133291 , 0.6133291 ],\n",
       "       [0.63353056, 0.63353056, 0.63353056],\n",
       "       [0.60393304, 0.60393304, 0.60393304],\n",
       "       [0.58489007, 0.58489007, 0.58489007],\n",
       "       [0.5488798 , 0.5488798 , 0.5488798 ],\n",
       "       [0.5506721 , 0.5506721 , 0.5506721 ],\n",
       "       [0.54178923, 0.54178923, 0.54178923],\n",
       "       [0.5505515 , 0.5505515 , 0.5505515 ],\n",
       "       [0.5446098 , 0.5446098 , 0.5446098 ],\n",
       "       [0.53204656, 0.53204656, 0.53204656],\n",
       "       [0.49829772, 0.49829772, 0.49829772],\n",
       "       [0.48979396, 0.48979396, 0.48979396],\n",
       "       [0.51498544, 0.51498544, 0.51498544],\n",
       "       [0.5324429 , 0.5324429 , 0.5324429 ],\n",
       "       [0.53693897, 0.53693897, 0.53693897],\n",
       "       [0.51867914, 0.51867914, 0.51867914],\n",
       "       [0.50208336, 0.50208336, 0.50208336],\n",
       "       [0.50364965, 0.50364965, 0.50364965],\n",
       "       [0.50483495, 0.50483495, 0.50483495],\n",
       "       [0.49997512, 0.49997512, 0.49997512],\n",
       "       [0.4814951 , 0.4814951 , 0.4814951 ],\n",
       "       [0.48860103, 0.48860103, 0.48860103],\n",
       "       [0.4690353 , 0.4690353 , 0.4690353 ],\n",
       "       [0.46227404, 0.46227404, 0.46227404],\n",
       "       [0.48510838, 0.48510838, 0.48510838],\n",
       "       [0.55934817, 0.55934817, 0.55934817],\n",
       "       [0.5788488 , 0.5788488 , 0.5788488 ],\n",
       "       [0.49956533, 0.49956533, 0.49956533],\n",
       "       [0.48622665, 0.48622665, 0.48622665],\n",
       "       [0.49169922, 0.49169922, 0.49169922],\n",
       "       [0.51329654, 0.51329654, 0.51329654],\n",
       "       [0.50802696, 0.50802696, 0.50802696],\n",
       "       [0.51357424, 0.51357424, 0.51357424],\n",
       "       [0.53307486, 0.53307486, 0.53307486],\n",
       "       [0.5382966 , 0.5382966 , 0.5382966 ],\n",
       "       [0.53273207, 0.53273207, 0.53273207],\n",
       "       [0.4997817 , 0.4997817 , 0.4997817 ],\n",
       "       [0.48467946, 0.48467946, 0.48467946],\n",
       "       [0.48494753, 0.48494753, 0.48494753],\n",
       "       [0.45982498, 0.45982498, 0.45982498],\n",
       "       [0.43597004, 0.43597004, 0.43597004],\n",
       "       [0.42628676, 0.42628676, 0.42628676],\n",
       "       [0.42270795, 0.42270795, 0.42270795],\n",
       "       [0.40496898, 0.40496898, 0.40496898],\n",
       "       [0.41066176, 0.41066176, 0.41066176],\n",
       "       [0.39908087, 0.39908087, 0.39908087],\n",
       "       [0.42170075, 0.42170075, 0.42170075],\n",
       "       [0.41660538, 0.41660538, 0.41660538],\n",
       "       [0.39166284, 0.39166284, 0.39166284],\n",
       "       [0.3865062 , 0.3865062 , 0.3865062 ],\n",
       "       [0.36170343, 0.36170343, 0.36170343],\n",
       "       [0.37123927, 0.37123927, 0.37123927],\n",
       "       [0.37248775, 0.37248775, 0.37248775],\n",
       "       [0.38639706, 0.38639706, 0.38639706],\n",
       "       [0.38929802, 0.38929802, 0.38929802],\n",
       "       [0.3846201 , 0.3846201 , 0.3846201 ],\n",
       "       [0.3721201 , 0.3721201 , 0.3721201 ],\n",
       "       [0.3859509 , 0.3859509 , 0.3859509 ],\n",
       "       [0.37637293, 0.37637293, 0.37637293],\n",
       "       [0.3704657 , 0.3704657 , 0.3704657 ],\n",
       "       [0.36046454, 0.36046454, 0.36046454],\n",
       "       [0.3447591 , 0.3447591 , 0.3447591 ],\n",
       "       [0.33001494, 0.33001494, 0.33001494],\n",
       "       [0.3247645 , 0.3247645 , 0.3247645 ],\n",
       "       [0.3272997 , 0.3272997 , 0.3272997 ],\n",
       "       [0.32222924, 0.32222924, 0.32222924],\n",
       "       [0.31715685, 0.31715685, 0.31715685],\n",
       "       [0.31865233, 0.31865233, 0.31865233],\n",
       "       [0.29580653, 0.29580653, 0.29580653],\n",
       "       [0.284622  , 0.284622  , 0.284622  ],\n",
       "       [0.29757008, 0.29757008, 0.29757008],\n",
       "       [0.29005247, 0.29005247, 0.29005247],\n",
       "       [0.28345972, 0.28345972, 0.28345972],\n",
       "       [0.2841299 , 0.2841299 , 0.2841299 ],\n",
       "       [0.2781499 , 0.2781499 , 0.2781499 ],\n",
       "       [0.26869446, 0.26869446, 0.26869446],\n",
       "       [0.25974265, 0.25974265, 0.25974265],\n",
       "       [0.26666668, 0.26666668, 0.26666668],\n",
       "       [0.26366422, 0.26366422, 0.26366422],\n",
       "       [0.26955613, 0.26955613, 0.26955613],\n",
       "       [0.2791054 , 0.2791054 , 0.2791054 ],\n",
       "       [0.27432597, 0.27432597, 0.27432597],\n",
       "       [0.26758578, 0.26758578, 0.26758578],\n",
       "       [0.26311275, 0.26311275, 0.26311275],\n",
       "       [0.26294616, 0.26294616, 0.26294616],\n",
       "       [0.25275928, 0.25275928, 0.25275928],\n",
       "       [0.19144264, 0.19144264, 0.19144264],\n",
       "       [0.11509459, 0.11509459, 0.11509459],\n",
       "       [0.1356024 , 0.1356024 , 0.1356024 ],\n",
       "       [0.14836282, 0.14836282, 0.14836282],\n",
       "       [0.14993873, 0.14993873, 0.14993873],\n",
       "       [0.15815525, 0.15815525, 0.15815525],\n",
       "       [0.1591433 , 0.1591433 , 0.1591433 ],\n",
       "       [0.16182598, 0.16182598, 0.16182598],\n",
       "       [0.16594094, 0.16594094, 0.16594094],\n",
       "       [0.16470589, 0.16470589, 0.16470589],\n",
       "       [0.16862746, 0.16862746, 0.16862746],\n",
       "       [0.16796683, 0.16796683, 0.16796683],\n",
       "       [0.1764706 , 0.1764706 , 0.1764706 ],\n",
       "       [0.16415441, 0.16415441, 0.16415441],\n",
       "       [0.17320581, 0.17320581, 0.17320581],\n",
       "       [0.17806564, 0.17806564, 0.17806564],\n",
       "       [0.18178041, 0.18178041, 0.18178041],\n",
       "       [0.1808613 , 0.1808613 , 0.1808613 ],\n",
       "       [0.18915442, 0.18915442, 0.18915442],\n",
       "       [0.18751724, 0.18751724, 0.18751724],\n",
       "       [0.18639706, 0.18639706, 0.18639706],\n",
       "       [0.18872549, 0.18872549, 0.18872549],\n",
       "       [0.18939951, 0.18939951, 0.18939951],\n",
       "       [0.17518382, 0.17518382, 0.17518382],\n",
       "       [0.16591223, 0.16591223, 0.16591223],\n",
       "       [0.1598652 , 0.1598652 , 0.1598652 ],\n",
       "       [0.1481005 , 0.1481005 , 0.1481005 ],\n",
       "       [0.14692287, 0.14692287, 0.14692287],\n",
       "       [0.15110295, 0.15110295, 0.15110295],\n",
       "       [0.14537951, 0.14537951, 0.14537951],\n",
       "       [0.14183326, 0.14183326, 0.14183326],\n",
       "       [0.14350298, 0.14350298, 0.14350298],\n",
       "       [0.12279411, 0.12279411, 0.12279411]], dtype=float32)"
      ]
     },
     "execution_count": 38,
     "metadata": {},
     "output_type": "execute_result"
    }
   ],
   "source": [
    "x_train_pneumonia[0][0]"
   ]
  },
  {
   "cell_type": "code",
   "execution_count": 36,
   "id": "e5c26af4-69fb-44ba-96ef-6cad1ad9fa41",
   "metadata": {},
   "outputs": [
    {
     "name": "stdout",
     "output_type": "stream",
     "text": [
      "(1341, 256, 256, 3)\n"
     ]
    }
   ],
   "source": [
    "print(np.shape(x_train_normal))"
   ]
  },
  {
   "cell_type": "code",
   "execution_count": 41,
   "id": "db54a6fa-372e-4d1f-81f2-3cc4455b4ff8",
   "metadata": {},
   "outputs": [],
   "source": [
    "datagen_pneumonia = ImageDataGenerator(\n",
    "    zoom_range = 0.1,\n",
    "    width_shift_range=0.1,\n",
    "    height_shift_range=0.1,\n",
    "    horizontal_flip = True\n",
    ")\n",
    "\n",
    "datagen_pneumonia.fit(x_train_pneumonia)\n",
    "batch_size = np.shape(x_train_pneumonia)[0]\n",
    "x_train_pneumonia_1 = next(datagen_pneumonia.flow(x_train_pneumonia, batch_size=batch_size))\n",
    "x_train_pneumonia_expanded = np.concatenate((np.array(x_train_pneumonia), np.array(x_train_pneumonia_1)), axis=0)\n",
    "\n",
    "x_train_pneumonia = x_train_pneumonia_expanded\n",
    "\n",
    "datagen_pneumonia.fit(x_train_pneumonia)\n",
    "batch_size = np.shape(x_train_pneumonia)[0]\n",
    "x_train_pneumonia_1 = next(datagen_pneumonia.flow(x_train_pneumonia, batch_size=batch_size))\n",
    "x_train_pneumonia_expanded = np.concatenate((np.array(x_train_pneumonia), np.array(x_train_pneumonia_1)), axis=0)"
   ]
  },
  {
   "cell_type": "code",
   "execution_count": 42,
   "id": "01a8ca6d-b713-4625-a23d-cf5ca80c416a",
   "metadata": {},
   "outputs": [
    {
     "name": "stdout",
     "output_type": "stream",
     "text": [
      "(15500, 256, 256, 3)\n"
     ]
    }
   ],
   "source": [
    "print(np.shape(x_train_pneumonia_expanded))"
   ]
  },
  {
   "cell_type": "code",
   "execution_count": 43,
   "id": "43fda234-c9eb-40e3-a1c7-968a23ad9144",
   "metadata": {},
   "outputs": [],
   "source": [
    "datagen_normal = ImageDataGenerator(\n",
    "    zoom_range = 0.1,\n",
    "    width_shift_range=0.1,\n",
    "    height_shift_range=0.1,\n",
    "    horizontal_flip = True\n",
    ")\n",
    "\n",
    "datagen_normal.fit(x_train_normal)\n",
    "\n",
    "batch_size = np.shape(x_train_normal)[0]\n",
    "x_train_normal_1 = next(datagen_normal.flow(x_train_normal, batch_size=batch_size))\n",
    "x_train_normal_expanded = np.concatenate((np.array(x_train_normal), np.array(x_train_normal_1)), axis=0)\n",
    "\n",
    "x_train_normal = x_train_normal_1\n",
    "\n",
    "for i in range(3):\n",
    "    datagen_normal.fit(x_train_normal)\n",
    "    x_train_normal_1 = next(datagen_normal.flow(x_train_normal, batch_size=batch_size))\n",
    "    x_train_normal_expanded = np.concatenate((x_train_normal_expanded, np.array(x_train_normal_1)), axis=0)\n",
    "\n",
    "    x_train_normal = x_train_normal_1\n",
    "    \n",
    "x_train_normal = x_train_normal[:1045]\n",
    "\n",
    "datagen_normal.fit(x_train_normal)\n",
    "batch_size = np.shape(x_train_normal)[0]\n",
    "x_train_normal_1 = next(datagen_normal.flow(x_train_normal, batch_size=batch_size))\n",
    "x_train_normal_expanded = np.concatenate((x_train_normal_expanded, np.array(x_train_normal_1)), axis=0)\n",
    "\n",
    "x_train_normal = x_train_normal_expanded\n",
    "\n",
    "datagen_normal.fit(x_train_normal)\n",
    "batch_size = np.shape(x_train_normal)[0]\n",
    "x_train_normal_1 = next(datagen_normal.flow(x_train_normal, batch_size=batch_size))\n",
    "x_train_normal_expanded = np.concatenate((x_train_normal_expanded, np.array(x_train_normal_1)), axis=0)"
   ]
  },
  {
   "cell_type": "code",
   "execution_count": 44,
   "id": "b63cde31-0923-4748-8470-dbe4c8928637",
   "metadata": {},
   "outputs": [
    {
     "name": "stdout",
     "output_type": "stream",
     "text": [
      "(15500, 256, 256, 3)\n"
     ]
    }
   ],
   "source": [
    "print(np.shape(x_train_normal_expanded))"
   ]
  },
  {
   "cell_type": "code",
   "execution_count": 45,
   "id": "fbedb72d-009b-4811-9720-82a8b1300ab5",
   "metadata": {},
   "outputs": [],
   "source": [
    "x_train = np.concatenate((x_train_pneumonia_expanded, x_train_normal_expanded), axis=0)\n",
    "\n",
    "y_train = []\n",
    "for i in range(len(x_train_pneumonia_expanded)):\n",
    "    y_train.append(0)\n",
    "for i in range(len(x_train_normal_expanded)):\n",
    "    y_train.append(1)\n",
    "y_train = np.array(y_train)"
   ]
  },
  {
   "cell_type": "code",
   "execution_count": 46,
   "id": "5f0a38ff-b87f-4f0e-aee3-0d8989d21720",
   "metadata": {},
   "outputs": [
    {
     "name": "stdout",
     "output_type": "stream",
     "text": [
      "(31000,)\n"
     ]
    }
   ],
   "source": [
    "print(np.shape(y_train))"
   ]
  },
  {
   "cell_type": "code",
   "execution_count": null,
   "id": "e89b9f06-0c49-472a-8486-425ae26045f9",
   "metadata": {},
   "outputs": [],
   "source": [
    "# Create the dictionary\n",
    "pneumonia_dict = {\n",
    "    'x_train': x_train,\n",
    "    'x_test': x_test,\n",
    "    'y_train': y_train,\n",
    "    'y_test': y_test,\n",
    "    'x_val': x_val,\n",
    "    'y_val': y_val\n",
    "}\n",
    "\n"
   ]
  },
  {
   "cell_type": "code",
   "execution_count": 56,
   "id": "4c6d7d8c-09a4-41e5-9906-0c4db080024b",
   "metadata": {},
   "outputs": [],
   "source": [
    "# Store the dictionary in a pickle file\n",
    "with open('Resources/pneumonia_dict.pkl', 'wb') as file:\n",
    "    pickle.dump(pneumonia_dict, file)"
   ]
  },
  {
   "cell_type": "code",
   "execution_count": null,
   "id": "d141776d-27b1-43d7-8bbd-860f39aedd5c",
   "metadata": {},
   "outputs": [],
   "source": []
  }
 ],
 "metadata": {
  "kernelspec": {
   "display_name": "Python 3 (ipykernel)",
   "language": "python",
   "name": "python3"
  },
  "language_info": {
   "codemirror_mode": {
    "name": "ipython",
    "version": 3
   },
   "file_extension": ".py",
   "mimetype": "text/x-python",
   "name": "python",
   "nbconvert_exporter": "python",
   "pygments_lexer": "ipython3",
   "version": "3.11.5"
  }
 },
 "nbformat": 4,
 "nbformat_minor": 5
}
