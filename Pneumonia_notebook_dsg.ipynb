{
 "cells": [
  {
   "cell_type": "code",
   "execution_count": 1,
   "id": "0c3e8f33-03dc-49a7-af14-4a6281433263",
   "metadata": {},
   "outputs": [],
   "source": [
    "import numpy as np\n",
    "import tensorflow as tf\n",
    "from tensorflow import keras\n",
    "import matplotlib.pyplot as plt\n",
    "import seaborn as sns\n",
    "sns.set(style= \"darkgrid\", color_codes = True)\n",
    "from tensorflow.keras.applications import VGG16\n",
    "from tensorflow.keras.models import Sequential\n",
    "from tensorflow.keras.layers import Conv2D, MaxPooling2D, Dense, Flatten, Dropout, Input\n",
    "from keras.regularizers import l2\n",
    "from tensorflow.keras.metrics import Precision, Recall, BinaryAccuracy\n",
    "from sklearn.metrics import roc_curve, auc\n",
    "from tensorflow.keras.preprocessing.image import  load_img\n",
    "import warnings\n",
    "warnings.filterwarnings('ignore')\n",
    "from tensorflow.keras.preprocessing.image import ImageDataGenerator\n",
    "import pickle"
   ]
  },
  {
   "cell_type": "code",
   "execution_count": 2,
   "id": "af237ab7-8365-47d6-82c6-69303108cb49",
   "metadata": {},
   "outputs": [
    {
     "name": "stdout",
     "output_type": "stream",
     "text": [
      "Found 16 files belonging to 2 classes.\n"
     ]
    }
   ],
   "source": [
    "# Define image size and other parameters\n",
    "img_width, img_height = 256, 256\n",
    "batchsize = 32\n",
    "epochs = 4\n",
    "num_of_class = 2\n",
    "\n",
    "validation = keras.utils.image_dataset_from_directory(\n",
    "    directory='Resources/val',\n",
    "    labels='inferred',\n",
    "    label_mode='categorical',\n",
    "    batch_size=batchsize,\n",
    "    image_size=(img_width, img_height))"
   ]
  },
  {
   "cell_type": "code",
   "execution_count": 3,
   "id": "ba7f2631-a5c1-43e6-8d19-f739a748b3fb",
   "metadata": {},
   "outputs": [
    {
     "name": "stdout",
     "output_type": "stream",
     "text": [
      "Found 624 files belonging to 2 classes.\n"
     ]
    }
   ],
   "source": [
    "test = keras. utils.image_dataset_from_directory(\n",
    "    directory='Resources/test',\n",
    "    labels='inferred',\n",
    "    label_mode='categorical',\n",
    "    batch_size=batchsize,\n",
    "    image_size=(img_width, img_height))"
   ]
  },
  {
   "cell_type": "code",
   "execution_count": 4,
   "id": "bd131c08-9e41-4f2e-9bca-ed47f21b775c",
   "metadata": {},
   "outputs": [
    {
     "name": "stdout",
     "output_type": "stream",
     "text": [
      "Found 5216 files belonging to 2 classes.\n"
     ]
    }
   ],
   "source": [
    "train = keras. utils.image_dataset_from_directory(\n",
    "    directory='Resources/train',\n",
    "    labels='inferred',\n",
    "    label_mode='categorical',\n",
    "    batch_size=batchsize,\n",
    "    image_size=(img_width, img_height))"
   ]
  },
  {
   "cell_type": "code",
   "execution_count": 5,
   "id": "393c5c2a-c20b-407a-98e5-efa74a74109c",
   "metadata": {},
   "outputs": [
    {
     "name": "stdout",
     "output_type": "stream",
     "text": [
      "['NORMAL', 'PNEUMONIA']\n",
      "['NORMAL', 'PNEUMONIA']\n",
      "['NORMAL', 'PNEUMONIA']\n"
     ]
    }
   ],
   "source": [
    "print(train.class_names)\n",
    "print(validation.class_names)\n",
    "print(test.class_names)"
   ]
  },
  {
   "cell_type": "code",
   "execution_count": 6,
   "id": "7294e14d-4c1e-4ab3-a56b-e46ca17120b3",
   "metadata": {},
   "outputs": [],
   "source": [
    "x_train = []\n",
    "y_train = []\n",
    "\n",
    "for feature, label in train:\n",
    "    x_train.append(feature.numpy())\n",
    "    y_train.append(label.numpy())\n",
    "\n",
    "x_train = np.concatenate(x_train, axis=0)\n",
    "y_train = np.concatenate(y_train, axis=0)"
   ]
  },
  {
   "cell_type": "code",
   "execution_count": 7,
   "id": "2ddaf708-e229-4871-94ec-82a6206c5267",
   "metadata": {},
   "outputs": [],
   "source": [
    "x_val = []\n",
    "y_val = []\n",
    "    \n",
    "for feature, label in validation:\n",
    "    x_val.append(feature.numpy())\n",
    "    y_val.append(label.numpy())\n",
    "\n",
    "x_val = np.concatenate(x_val, axis=0)\n",
    "\n",
    "y_val = np.concatenate(y_val, axis=0)"
   ]
  },
  {
   "cell_type": "code",
   "execution_count": 8,
   "id": "1b0c626f-30e1-4b53-bfcf-16cb78a191ce",
   "metadata": {},
   "outputs": [],
   "source": [
    "x_test = []\n",
    "y_test = []\n",
    "\n",
    "for feature, label in test:\n",
    "    x_test.append(feature.numpy())\n",
    "    y_test.append(label.numpy())\n",
    "\n",
    "x_test = np.concatenate(x_test, axis=0)\n",
    "y_test = np.concatenate(y_test, axis=0)"
   ]
  },
  {
   "cell_type": "code",
   "execution_count": 9,
   "id": "f7a30d1f-f22c-4535-8513-d4e0260f3f75",
   "metadata": {},
   "outputs": [
    {
     "name": "stdout",
     "output_type": "stream",
     "text": [
      "Shape of 'x_train': (5216, 256, 256, 3)\n",
      "Shape of 'y_train': (5216, 2)\n",
      "Shape of 'x_val': (16, 256, 256, 3)\n",
      "Shape of 'y_val': (16, 2)\n",
      "Shape of 'x_test': (624, 256, 256, 3)\n",
      "Shape of 'y_test': (624, 2)\n"
     ]
    }
   ],
   "source": [
    "# check the shapes of 'x_train' and 'y_train':\n",
    "print(\"Shape of 'x_train':\", x_train.shape)\n",
    "print(\"Shape of 'y_train':\", y_train.shape)\n",
    "print(\"Shape of 'x_val':\", x_val.shape)\n",
    "print(\"Shape of 'y_val':\", y_val.shape)\n",
    "print(\"Shape of 'x_test':\", x_test.shape)\n",
    "print(\"Shape of 'y_test':\", y_test.shape)"
   ]
  },
  {
   "cell_type": "code",
   "execution_count": 10,
   "id": "421c6519-f0f5-4d99-ab98-153b09ccd323",
   "metadata": {},
   "outputs": [],
   "source": [
    "x_train=x_train/255\n",
    "x_val=x_val/255\n",
    "x_test=x_test/255"
   ]
  },
  {
   "cell_type": "code",
   "execution_count": 11,
   "id": "59a00fea-3571-4122-a35b-84723c5e6ee2",
   "metadata": {},
   "outputs": [
    {
     "data": {
      "text/plain": [
       "array([[0., 1.],\n",
       "       [1., 0.],\n",
       "       [0., 1.],\n",
       "       ...,\n",
       "       [0., 1.],\n",
       "       [0., 1.],\n",
       "       [0., 1.]], dtype=float32)"
      ]
     },
     "execution_count": 11,
     "metadata": {},
     "output_type": "execute_result"
    }
   ],
   "source": [
    "y_train"
   ]
  },
  {
   "cell_type": "code",
   "execution_count": 12,
   "id": "a18b9590-c236-49fc-8444-c69606aa27c3",
   "metadata": {},
   "outputs": [],
   "source": [
    "x_train_pneumonia = []\n",
    "x_train_normal = []\n",
    "\n",
    "for i in range(len(x_train)):\n",
    "    if y_train[i][0] == 0:\n",
    "        x_train_pneumonia.append(list(x_train[i]))\n",
    "    else:\n",
    "        x_train_normal.append(list(x_train[i]))\n",
    "\n",
    "x_train_pneumonia = np.array(x_train_pneumonia)\n",
    "x_train_normal = np.array(x_train_normal)"
   ]
  },
  {
   "cell_type": "code",
   "execution_count": 13,
   "id": "3b82a78f-b1c4-46be-801d-6893a7fd626d",
   "metadata": {},
   "outputs": [
    {
     "name": "stdout",
     "output_type": "stream",
     "text": [
      "(3875, 256, 256, 3)\n"
     ]
    }
   ],
   "source": [
    "print(np.shape(x_train_pneumonia))"
   ]
  },
  {
   "cell_type": "code",
   "execution_count": 14,
   "id": "9d057c0b-afea-4238-ab83-890b85656e35",
   "metadata": {},
   "outputs": [
    {
     "data": {
      "text/plain": [
       "array([[0.1868681 , 0.1868681 , 0.1868681 ],\n",
       "       [0.17781863, 0.17781863, 0.17781863],\n",
       "       [0.17781863, 0.17781863, 0.17781863],\n",
       "       [0.17144608, 0.17144608, 0.17144608],\n",
       "       [0.17225413, 0.17225413, 0.17225413],\n",
       "       [0.17316176, 0.17316176, 0.17316176],\n",
       "       [0.16605392, 0.16605392, 0.16605392],\n",
       "       [0.15833333, 0.15833333, 0.15833333],\n",
       "       [0.15424709, 0.15424709, 0.15424709],\n",
       "       [0.15294118, 0.15294118, 0.15294118],\n",
       "       [0.14752987, 0.14752987, 0.14752987],\n",
       "       [0.13833487, 0.13833487, 0.13833487],\n",
       "       [0.14264706, 0.14264706, 0.14264706],\n",
       "       [0.12860754, 0.12860754, 0.12860754],\n",
       "       [0.11857767, 0.11857767, 0.11857767],\n",
       "       [0.1254902 , 0.1254902 , 0.1254902 ],\n",
       "       [0.12220052, 0.12220052, 0.12220052],\n",
       "       [0.11060432, 0.11060432, 0.11060432],\n",
       "       [0.1125    , 0.1125    , 0.1125    ],\n",
       "       [0.10233992, 0.10233992, 0.10233992],\n",
       "       [0.09681372, 0.09681372, 0.09681372],\n",
       "       [0.08897059, 0.08897059, 0.08897059],\n",
       "       [0.08468137, 0.08468137, 0.08468137],\n",
       "       [0.08366268, 0.08366268, 0.08366268],\n",
       "       [0.0875    , 0.0875    , 0.0875    ],\n",
       "       [0.08333334, 0.08333334, 0.08333334],\n",
       "       [0.0793773 , 0.0793773 , 0.0793773 ],\n",
       "       [0.06965763, 0.06965763, 0.06965763],\n",
       "       [0.06825981, 0.06825981, 0.06825981],\n",
       "       [0.0702474 , 0.0702474 , 0.0702474 ],\n",
       "       [0.06151961, 0.06151961, 0.06151961],\n",
       "       [0.06151961, 0.06151961, 0.06151961],\n",
       "       [0.06337699, 0.06337699, 0.06337699],\n",
       "       [0.06936274, 0.06936274, 0.06936274],\n",
       "       [0.07058824, 0.07058824, 0.07058824],\n",
       "       [0.07058824, 0.07058824, 0.07058824],\n",
       "       [0.06600413, 0.06600413, 0.06600413],\n",
       "       [0.0680147 , 0.0680147 , 0.0680147 ],\n",
       "       [0.06936274, 0.06936274, 0.06936274],\n",
       "       [0.06936274, 0.06936274, 0.06936274],\n",
       "       [0.07328431, 0.07328431, 0.07328431],\n",
       "       [0.07328431, 0.07328431, 0.07328431],\n",
       "       [0.08112745, 0.08112745, 0.08112745],\n",
       "       [0.08169041, 0.08169041, 0.08169041],\n",
       "       [0.08947227, 0.08947227, 0.08947227],\n",
       "       [0.09154411, 0.09154411, 0.09154411],\n",
       "       [0.08682215, 0.08682215, 0.08682215],\n",
       "       [0.09595589, 0.09595589, 0.09595589],\n",
       "       [0.09803922, 0.09803922, 0.09803922],\n",
       "       [0.1072304 , 0.1072304 , 0.1072304 ],\n",
       "       [0.09850261, 0.09850261, 0.09850261],\n",
       "       [0.10796569, 0.10796569, 0.10796569],\n",
       "       [0.10073529, 0.10073529, 0.10073529],\n",
       "       [0.09681372, 0.09681372, 0.09681372],\n",
       "       [0.10600873, 0.10600873, 0.10600873],\n",
       "       [0.10984605, 0.10984605, 0.10984605],\n",
       "       [0.10731082, 0.10731082, 0.10731082],\n",
       "       [0.10759804, 0.10759804, 0.10759804],\n",
       "       [0.10588235, 0.10588235, 0.10588235],\n",
       "       [0.10980392, 0.10980392, 0.10980392],\n",
       "       [0.10980392, 0.10980392, 0.10980392],\n",
       "       [0.10588235, 0.10588235, 0.10588235],\n",
       "       [0.10857843, 0.10857843, 0.10857843],\n",
       "       [0.11251915, 0.11251915, 0.11251915],\n",
       "       [0.10588235, 0.10588235, 0.10588235],\n",
       "       [0.09803922, 0.09803922, 0.09803922],\n",
       "       [0.09803922, 0.09803922, 0.09803922],\n",
       "       [0.09411765, 0.09411765, 0.09411765],\n",
       "       [0.09411765, 0.09411765, 0.09411765],\n",
       "       [0.08410309, 0.08410309, 0.08410309],\n",
       "       [0.0781901 , 0.0781901 , 0.0781901 ],\n",
       "       [0.07846967, 0.07846967, 0.07846967],\n",
       "       [0.07859605, 0.07859605, 0.07859605],\n",
       "       [0.0718099 , 0.0718099 , 0.0718099 ],\n",
       "       [0.06348039, 0.06348039, 0.06348039],\n",
       "       [0.04504826, 0.04504826, 0.04504826],\n",
       "       [0.03957184, 0.03957184, 0.03957184],\n",
       "       [0.02610294, 0.02610294, 0.02610294],\n",
       "       [0.0125651 , 0.0125651 , 0.0125651 ],\n",
       "       [0.        , 0.        , 0.        ],\n",
       "       [0.00286458, 0.00286458, 0.00286458],\n",
       "       [0.22819394, 0.22819394, 0.22819394],\n",
       "       [0.22884114, 0.22884114, 0.22884114],\n",
       "       [0.26641008, 0.26641008, 0.26641008],\n",
       "       [0.29632735, 0.29632735, 0.29632735],\n",
       "       [0.34115732, 0.34115732, 0.34115732],\n",
       "       [0.32011336, 0.32011336, 0.32011336],\n",
       "       [0.4034314 , 0.4034314 , 0.4034314 ],\n",
       "       [0.34137943, 0.34137943, 0.34137943],\n",
       "       [0.37622932, 0.37622932, 0.37622932],\n",
       "       [0.3945389 , 0.3945389 , 0.3945389 ],\n",
       "       [0.42311198, 0.42311198, 0.42311198],\n",
       "       [0.46519607, 0.46519607, 0.46519607],\n",
       "       [0.5047794 , 0.5047794 , 0.5047794 ],\n",
       "       [0.5080806 , 0.5080806 , 0.5080806 ],\n",
       "       [0.5569853 , 0.5569853 , 0.5569853 ],\n",
       "       [0.5854167 , 0.5854167 , 0.5854167 ],\n",
       "       [0.58817786, 0.58817786, 0.58817786],\n",
       "       [0.5991154 , 0.5991154 , 0.5991154 ],\n",
       "       [0.63064873, 0.63064873, 0.63064873],\n",
       "       [0.63387334, 0.63387334, 0.63387334],\n",
       "       [0.662657  , 0.662657  , 0.662657  ],\n",
       "       [0.6612707 , 0.6612707 , 0.6612707 ],\n",
       "       [0.6718137 , 0.6718137 , 0.6718137 ],\n",
       "       [0.6786765 , 0.6786765 , 0.6786765 ],\n",
       "       [0.6832108 , 0.6832108 , 0.6832108 ],\n",
       "       [0.70710784, 0.70710784, 0.70710784],\n",
       "       [0.7295343 , 0.7295343 , 0.7295343 ],\n",
       "       [0.73811275, 0.73811275, 0.73811275],\n",
       "       [0.7606618 , 0.7606618 , 0.7606618 ],\n",
       "       [0.74307215, 0.74307215, 0.74307215],\n",
       "       [0.7577206 , 0.7577206 , 0.7577206 ],\n",
       "       [0.7511029 , 0.7511029 , 0.7511029 ],\n",
       "       [0.7599188 , 0.7599188 , 0.7599188 ],\n",
       "       [0.7695121 , 0.7695121 , 0.7695121 ],\n",
       "       [0.76887256, 0.76887256, 0.76887256],\n",
       "       [0.76223195, 0.76223195, 0.76223195],\n",
       "       [0.76542586, 0.76542586, 0.76542586],\n",
       "       [0.7730354 , 0.7730354 , 0.7730354 ],\n",
       "       [0.7633578 , 0.7633578 , 0.7633578 ],\n",
       "       [0.7777344 , 0.7777344 , 0.7777344 ],\n",
       "       [0.77977556, 0.77977556, 0.77977556],\n",
       "       [0.75099957, 0.75099957, 0.75099957],\n",
       "       [0.7883808 , 0.7883808 , 0.7883808 ],\n",
       "       [0.79658014, 0.79658014, 0.79658014],\n",
       "       [0.78009343, 0.78009343, 0.78009343],\n",
       "       [0.81035924, 0.81035924, 0.81035924],\n",
       "       [0.7941176 , 0.7941176 , 0.7941176 ],\n",
       "       [0.8079848 , 0.8079848 , 0.8079848 ],\n",
       "       [0.8052696 , 0.8052696 , 0.8052696 ],\n",
       "       [0.8052696 , 0.8052696 , 0.8052696 ],\n",
       "       [0.81482846, 0.81482846, 0.81482846],\n",
       "       [0.81624925, 0.81624925, 0.81624925],\n",
       "       [0.79061735, 0.79061735, 0.79061735],\n",
       "       [0.77977943, 0.77977943, 0.77977943],\n",
       "       [0.79607844, 0.79607844, 0.79607844],\n",
       "       [0.80792356, 0.80792356, 0.80792356],\n",
       "       [0.8084635 , 0.8084635 , 0.8084635 ],\n",
       "       [0.8179611 , 0.8179611 , 0.8179611 ],\n",
       "       [0.8121821 , 0.8121821 , 0.8121821 ],\n",
       "       [0.7888825 , 0.7888825 , 0.7888825 ],\n",
       "       [0.79270065, 0.79270065, 0.79270065],\n",
       "       [0.7784888 , 0.7784888 , 0.7784888 ],\n",
       "       [0.772775  , 0.772775  , 0.772775  ],\n",
       "       [0.7377451 , 0.7377451 , 0.7377451 ],\n",
       "       [0.7319853 , 0.7319853 , 0.7319853 ],\n",
       "       [0.7273016 , 0.7273016 , 0.7273016 ],\n",
       "       [0.7094248 , 0.7094248 , 0.7094248 ],\n",
       "       [0.7198529 , 0.7198529 , 0.7198529 ],\n",
       "       [0.7096814 , 0.7096814 , 0.7096814 ],\n",
       "       [0.68896675, 0.68896675, 0.68896675],\n",
       "       [0.6994256 , 0.6994256 , 0.6994256 ],\n",
       "       [0.6862745 , 0.6862745 , 0.6862745 ],\n",
       "       [0.68235296, 0.68235296, 0.68235296],\n",
       "       [0.6753332 , 0.6753332 , 0.6753332 ],\n",
       "       [0.6658816 , 0.6658816 , 0.6658816 ],\n",
       "       [0.6552811 , 0.6552811 , 0.6552811 ],\n",
       "       [0.6404412 , 0.6404412 , 0.6404412 ],\n",
       "       [0.6354818 , 0.6354818 , 0.6354818 ],\n",
       "       [0.61813724, 0.61813724, 0.61813724],\n",
       "       [0.5995481 , 0.5995481 , 0.5995481 ],\n",
       "       [0.5864545 , 0.5864545 , 0.5864545 ],\n",
       "       [0.5724265 , 0.5724265 , 0.5724265 ],\n",
       "       [0.5451095 , 0.5451095 , 0.5451095 ],\n",
       "       [0.49458104, 0.49458104, 0.49458104],\n",
       "       [0.4711129 , 0.4711129 , 0.4711129 ],\n",
       "       [0.44546568, 0.44546568, 0.44546568],\n",
       "       [0.43786764, 0.43786764, 0.43786764],\n",
       "       [0.3745098 , 0.3745098 , 0.3745098 ],\n",
       "       [0.2224035 , 0.2224035 , 0.2224035 ],\n",
       "       [0.20605852, 0.20605852, 0.20605852],\n",
       "       [0.2153914 , 0.2153914 , 0.2153914 ],\n",
       "       [0.20392157, 0.20392157, 0.20392157],\n",
       "       [0.1870098 , 0.1870098 , 0.1870098 ],\n",
       "       [0.20893842, 0.20893842, 0.20893842],\n",
       "       [0.15731464, 0.15731464, 0.15731464],\n",
       "       [0.16907935, 0.16907935, 0.16907935],\n",
       "       [0.1878753 , 0.1878753 , 0.1878753 ],\n",
       "       [0.16804151, 0.16804151, 0.16804151],\n",
       "       [0.1577206 , 0.1577206 , 0.1577206 ],\n",
       "       [0.14316024, 0.14316024, 0.14316024],\n",
       "       [0.13219592, 0.13219592, 0.13219592],\n",
       "       [0.13590686, 0.13590686, 0.13590686],\n",
       "       [0.13341376, 0.13341376, 0.13341376],\n",
       "       [0.13178232, 0.13178232, 0.13178232],\n",
       "       [0.14669117, 0.14669117, 0.14669117],\n",
       "       [0.25941712, 0.25941712, 0.25941712],\n",
       "       [0.25762483, 0.25762483, 0.25762483],\n",
       "       [0.21423866, 0.21423866, 0.21423866],\n",
       "       [0.21093367, 0.21093367, 0.21093367],\n",
       "       [0.20355392, 0.20355392, 0.20355392],\n",
       "       [0.20833333, 0.20833333, 0.20833333],\n",
       "       [0.17254902, 0.17254902, 0.17254902],\n",
       "       [0.19080882, 0.19080882, 0.19080882],\n",
       "       [0.20257352, 0.20257352, 0.20257352],\n",
       "       [0.18568474, 0.18568474, 0.18568474],\n",
       "       [0.19021906, 0.19021906, 0.19021906],\n",
       "       [0.21001455, 0.21001455, 0.21001455],\n",
       "       [0.21703431, 0.21703431, 0.21703431],\n",
       "       [0.22218138, 0.22218138, 0.22218138],\n",
       "       [0.22639017, 0.22639017, 0.22639017],\n",
       "       [0.25649127, 0.25649127, 0.25649127],\n",
       "       [0.26708794, 0.26708794, 0.26708794],\n",
       "       [0.36115196, 0.36115196, 0.36115196],\n",
       "       [0.4072189 , 0.4072189 , 0.4072189 ],\n",
       "       [0.39946768, 0.39946768, 0.39946768],\n",
       "       [0.3737745 , 0.3737745 , 0.3737745 ],\n",
       "       [0.35933286, 0.35933286, 0.35933286],\n",
       "       [0.42432982, 0.42432982, 0.42432982],\n",
       "       [0.45067018, 0.45067018, 0.45067018],\n",
       "       [0.42987517, 0.42987517, 0.42987517],\n",
       "       [0.42879903, 0.42879903, 0.42879903],\n",
       "       [0.38852635, 0.38852635, 0.38852635],\n",
       "       [0.3716031 , 0.3716031 , 0.3716031 ],\n",
       "       [0.36287147, 0.36287147, 0.36287147],\n",
       "       [0.36286765, 0.36286765, 0.36286765],\n",
       "       [0.34428233, 0.34428233, 0.34428233],\n",
       "       [0.33529413, 0.33529413, 0.33529413],\n",
       "       [0.32785308, 0.32785308, 0.32785308],\n",
       "       [0.3074525 , 0.3074525 , 0.3074525 ],\n",
       "       [0.30661765, 0.30661765, 0.30661765],\n",
       "       [0.2747281 , 0.2747281 , 0.2747281 ],\n",
       "       [0.26936275, 0.26936275, 0.26936275],\n",
       "       [0.24861367, 0.24861367, 0.24861367],\n",
       "       [0.2683632 , 0.2683632 , 0.2683632 ],\n",
       "       [0.25619256, 0.25619256, 0.25619256],\n",
       "       [0.2795343 , 0.2795343 , 0.2795343 ],\n",
       "       [0.32205883, 0.32205883, 0.32205883],\n",
       "       [0.32536766, 0.32536766, 0.32536766],\n",
       "       [0.3111175 , 0.3111175 , 0.3111175 ],\n",
       "       [0.27560893, 0.27560893, 0.27560893],\n",
       "       [0.23549709, 0.23549709, 0.23549709],\n",
       "       [0.22328432, 0.22328432, 0.22328432],\n",
       "       [0.19068244, 0.19068244, 0.19068244],\n",
       "       [0.17708333, 0.17708333, 0.17708333],\n",
       "       [0.15294118, 0.15294118, 0.15294118],\n",
       "       [0.15416667, 0.15416667, 0.15416667],\n",
       "       [0.1417739 , 0.1417739 , 0.1417739 ],\n",
       "       [0.09969746, 0.09969746, 0.09969746],\n",
       "       [0.00134804, 0.00134804, 0.00134804],\n",
       "       [0.00392157, 0.00392157, 0.00392157],\n",
       "       [0.00552237, 0.00552237, 0.00552237],\n",
       "       [0.00134804, 0.00134804, 0.00134804],\n",
       "       [0.03148361, 0.03148361, 0.03148361],\n",
       "       [0.02573529, 0.02573529, 0.02573529],\n",
       "       [0.05784314, 0.05784314, 0.05784314],\n",
       "       [0.17880285, 0.17880285, 0.17880285],\n",
       "       [0.30089614, 0.30089614, 0.30089614],\n",
       "       [0.31090686, 0.31090686, 0.31090686],\n",
       "       [0.3517272 , 0.3517272 , 0.3517272 ],\n",
       "       [0.2716031 , 0.2716031 , 0.2716031 ],\n",
       "       [0.30127528, 0.30127528, 0.30127528],\n",
       "       [0.22681525, 0.22681525, 0.22681525],\n",
       "       [0.20991115, 0.20991115, 0.20991115],\n",
       "       [0.14835708, 0.14835708, 0.14835708],\n",
       "       [0.08541667, 0.08541667, 0.08541667]], dtype=float32)"
      ]
     },
     "execution_count": 14,
     "metadata": {},
     "output_type": "execute_result"
    }
   ],
   "source": [
    "x_train_pneumonia[0][0]"
   ]
  },
  {
   "cell_type": "code",
   "execution_count": 15,
   "id": "e5c26af4-69fb-44ba-96ef-6cad1ad9fa41",
   "metadata": {},
   "outputs": [
    {
     "name": "stdout",
     "output_type": "stream",
     "text": [
      "(1341, 256, 256, 3)\n"
     ]
    }
   ],
   "source": [
    "print(np.shape(x_train_normal))"
   ]
  },
  {
   "cell_type": "code",
   "execution_count": 16,
   "id": "db54a6fa-372e-4d1f-81f2-3cc4455b4ff8",
   "metadata": {},
   "outputs": [],
   "source": [
    "datagen_pneumonia = ImageDataGenerator(\n",
    "    zoom_range = 0.1,\n",
    "    width_shift_range=0.1,\n",
    "    height_shift_range=0.1,\n",
    "    horizontal_flip = True\n",
    ")\n",
    "\n",
    "datagen_pneumonia.fit(x_train_pneumonia)\n",
    "batch_size = np.shape(x_train_pneumonia)[0]\n",
    "x_train_pneumonia_1 = next(datagen_pneumonia.flow(x_train_pneumonia, batch_size=batch_size))\n",
    "x_train_pneumonia_expanded = np.concatenate((np.array(x_train_pneumonia), np.array(x_train_pneumonia_1)), axis=0)\n",
    "\n",
    "x_train_pneumonia = x_train_pneumonia_expanded\n",
    "\n",
    "datagen_pneumonia.fit(x_train_pneumonia)\n",
    "batch_size = np.shape(x_train_pneumonia)[0]\n",
    "x_train_pneumonia_1 = next(datagen_pneumonia.flow(x_train_pneumonia, batch_size=batch_size))\n",
    "x_train_pneumonia_expanded = np.concatenate((np.array(x_train_pneumonia), np.array(x_train_pneumonia_1)), axis=0)"
   ]
  },
  {
   "cell_type": "code",
   "execution_count": 17,
   "id": "01a8ca6d-b713-4625-a23d-cf5ca80c416a",
   "metadata": {},
   "outputs": [
    {
     "name": "stdout",
     "output_type": "stream",
     "text": [
      "(15500, 256, 256, 3)\n"
     ]
    }
   ],
   "source": [
    "print(np.shape(x_train_pneumonia_expanded))"
   ]
  },
  {
   "cell_type": "code",
   "execution_count": 18,
   "id": "43fda234-c9eb-40e3-a1c7-968a23ad9144",
   "metadata": {},
   "outputs": [],
   "source": [
    "datagen_normal = ImageDataGenerator(\n",
    "    zoom_range = 0.1,\n",
    "    width_shift_range=0.1,\n",
    "    height_shift_range=0.1,\n",
    "    horizontal_flip = True\n",
    ")\n",
    "\n",
    "datagen_normal.fit(x_train_normal)\n",
    "\n",
    "batch_size = np.shape(x_train_normal)[0]\n",
    "x_train_normal_1 = next(datagen_normal.flow(x_train_normal, batch_size=batch_size))\n",
    "x_train_normal_expanded = np.concatenate((np.array(x_train_normal), np.array(x_train_normal_1)), axis=0)\n",
    "\n",
    "x_train_normal = x_train_normal_1\n",
    "\n",
    "for i in range(3):\n",
    "    datagen_normal.fit(x_train_normal)\n",
    "    x_train_normal_1 = next(datagen_normal.flow(x_train_normal, batch_size=batch_size))\n",
    "    x_train_normal_expanded = np.concatenate((x_train_normal_expanded, np.array(x_train_normal_1)), axis=0)\n",
    "\n",
    "    x_train_normal = x_train_normal_1\n",
    "    \n",
    "x_train_normal = x_train_normal[:1045]\n",
    "\n",
    "datagen_normal.fit(x_train_normal)\n",
    "batch_size = np.shape(x_train_normal)[0]\n",
    "x_train_normal_1 = next(datagen_normal.flow(x_train_normal, batch_size=batch_size))\n",
    "x_train_normal_expanded = np.concatenate((x_train_normal_expanded, np.array(x_train_normal_1)), axis=0)\n",
    "\n",
    "x_train_normal = x_train_normal_expanded\n",
    "\n",
    "datagen_normal.fit(x_train_normal)\n",
    "batch_size = np.shape(x_train_normal)[0]\n",
    "x_train_normal_1 = next(datagen_normal.flow(x_train_normal, batch_size=batch_size))\n",
    "x_train_normal_expanded = np.concatenate((x_train_normal_expanded, np.array(x_train_normal_1)), axis=0)"
   ]
  },
  {
   "cell_type": "code",
   "execution_count": 19,
   "id": "b63cde31-0923-4748-8470-dbe4c8928637",
   "metadata": {},
   "outputs": [
    {
     "name": "stdout",
     "output_type": "stream",
     "text": [
      "(15500, 256, 256, 3)\n"
     ]
    }
   ],
   "source": [
    "print(np.shape(x_train_normal_expanded))"
   ]
  },
  {
   "cell_type": "code",
   "execution_count": 20,
   "id": "fbedb72d-009b-4811-9720-82a8b1300ab5",
   "metadata": {},
   "outputs": [],
   "source": [
    "x_train = np.concatenate((x_train_pneumonia_expanded, x_train_normal_expanded), axis=0)\n",
    "\n",
    "y_train = []\n",
    "for i in range(len(x_train_pneumonia_expanded)):\n",
    "    y_train.append(0)\n",
    "for i in range(len(x_train_normal_expanded)):\n",
    "    y_train.append(1)\n",
    "y_train = np.array(y_train)"
   ]
  },
  {
   "cell_type": "code",
   "execution_count": 21,
   "id": "5f0a38ff-b87f-4f0e-aee3-0d8989d21720",
   "metadata": {},
   "outputs": [
    {
     "name": "stdout",
     "output_type": "stream",
     "text": [
      "(31000,)\n"
     ]
    }
   ],
   "source": [
    "print(np.shape(y_train))"
   ]
  },
  {
   "cell_type": "code",
   "execution_count": null,
   "id": "e89b9f06-0c49-472a-8486-425ae26045f9",
   "metadata": {},
   "outputs": [],
   "source": [
    "# # Create the dictionary\n",
    "# pneumonia_dict = {\n",
    "#     'x_train': x_train,\n",
    "#     'x_test': x_test,\n",
    "#     'y_train': y_train,\n",
    "#     'y_test': y_test,\n",
    "#     'x_val': x_val,\n",
    "#     'y_val': y_val\n",
    "# }\n",
    "\n"
   ]
  },
  {
   "cell_type": "code",
   "execution_count": 56,
   "id": "4c6d7d8c-09a4-41e5-9906-0c4db080024b",
   "metadata": {},
   "outputs": [],
   "source": [
    "# # Store the dictionary in a pickle file\n",
    "# with open('Resources/pneumonia_dict.pkl', 'wb') as file:\n",
    "#     pickle.dump(pneumonia_dict, file)"
   ]
  },
  {
   "cell_type": "code",
   "execution_count": 24,
   "id": "8eac4291-e7e1-4224-bfef-9aff5fc937c8",
   "metadata": {},
   "outputs": [
    {
     "name": "stdout",
     "output_type": "stream",
     "text": [
      "Requirement already satisfied: h5py in c:\\users\\dharmesh\\anaconda3\\lib\\site-packages (3.10.0)\n",
      "Requirement already satisfied: numpy>=1.17.3 in c:\\users\\dharmesh\\anaconda3\\lib\\site-packages (from h5py) (1.26.4)\n"
     ]
    }
   ],
   "source": [
    "#!pip install h5py"
   ]
  },
  {
   "cell_type": "code",
   "execution_count": 22,
   "id": "646c0be8-314b-492b-a814-f6eecae42ec3",
   "metadata": {},
   "outputs": [],
   "source": [
    "import h5py"
   ]
  },
  {
   "cell_type": "code",
   "execution_count": 23,
   "id": "2808bb51-2cca-4eeb-9882-e433b4551f52",
   "metadata": {},
   "outputs": [],
   "source": [
    "from tensorflow.keras.utils import to_categorical\n",
    "# Assuming y_train contains labels 0 and 1\n",
    "y_train = to_categorical(y_train, num_classes=2)"
   ]
  },
  {
   "cell_type": "code",
   "execution_count": 24,
   "id": "54ed6300-9da2-4c54-a67e-07d0774945f1",
   "metadata": {},
   "outputs": [
    {
     "data": {
      "text/html": [
       "<pre style=\"white-space:pre;overflow-x:auto;line-height:normal;font-family:Menlo,'DejaVu Sans Mono',consolas,'Courier New',monospace\"><span style=\"font-weight: bold\">Model: \"sequential\"</span>\n",
       "</pre>\n"
      ],
      "text/plain": [
       "\u001b[1mModel: \"sequential\"\u001b[0m\n"
      ]
     },
     "metadata": {},
     "output_type": "display_data"
    },
    {
     "data": {
      "text/html": [
       "<pre style=\"white-space:pre;overflow-x:auto;line-height:normal;font-family:Menlo,'DejaVu Sans Mono',consolas,'Courier New',monospace\">┏━━━━━━━━━━━━━━━━━━━━━━━━━━━━━━━━━━━━━━┳━━━━━━━━━━━━━━━━━━━━━━━━━━━━━┳━━━━━━━━━━━━━━━━━┓\n",
       "┃<span style=\"font-weight: bold\"> Layer (type)                         </span>┃<span style=\"font-weight: bold\"> Output Shape                </span>┃<span style=\"font-weight: bold\">         Param # </span>┃\n",
       "┡━━━━━━━━━━━━━━━━━━━━━━━━━━━━━━━━━━━━━━╇━━━━━━━━━━━━━━━━━━━━━━━━━━━━━╇━━━━━━━━━━━━━━━━━┩\n",
       "│ vgg16 (<span style=\"color: #0087ff; text-decoration-color: #0087ff\">Functional</span>)                   │ (<span style=\"color: #00d7ff; text-decoration-color: #00d7ff\">None</span>, <span style=\"color: #00af00; text-decoration-color: #00af00\">8</span>, <span style=\"color: #00af00; text-decoration-color: #00af00\">8</span>, <span style=\"color: #00af00; text-decoration-color: #00af00\">512</span>)           │      <span style=\"color: #00af00; text-decoration-color: #00af00\">14,714,688</span> │\n",
       "├──────────────────────────────────────┼─────────────────────────────┼─────────────────┤\n",
       "│ flatten (<span style=\"color: #0087ff; text-decoration-color: #0087ff\">Flatten</span>)                    │ (<span style=\"color: #00d7ff; text-decoration-color: #00d7ff\">None</span>, <span style=\"color: #00af00; text-decoration-color: #00af00\">32768</span>)               │               <span style=\"color: #00af00; text-decoration-color: #00af00\">0</span> │\n",
       "├──────────────────────────────────────┼─────────────────────────────┼─────────────────┤\n",
       "│ dropout (<span style=\"color: #0087ff; text-decoration-color: #0087ff\">Dropout</span>)                    │ (<span style=\"color: #00d7ff; text-decoration-color: #00d7ff\">None</span>, <span style=\"color: #00af00; text-decoration-color: #00af00\">32768</span>)               │               <span style=\"color: #00af00; text-decoration-color: #00af00\">0</span> │\n",
       "├──────────────────────────────────────┼─────────────────────────────┼─────────────────┤\n",
       "│ dense (<span style=\"color: #0087ff; text-decoration-color: #0087ff\">Dense</span>)                        │ (<span style=\"color: #00d7ff; text-decoration-color: #00d7ff\">None</span>, <span style=\"color: #00af00; text-decoration-color: #00af00\">128</span>)                 │       <span style=\"color: #00af00; text-decoration-color: #00af00\">4,194,432</span> │\n",
       "├──────────────────────────────────────┼─────────────────────────────┼─────────────────┤\n",
       "│ dropout_1 (<span style=\"color: #0087ff; text-decoration-color: #0087ff\">Dropout</span>)                  │ (<span style=\"color: #00d7ff; text-decoration-color: #00d7ff\">None</span>, <span style=\"color: #00af00; text-decoration-color: #00af00\">128</span>)                 │               <span style=\"color: #00af00; text-decoration-color: #00af00\">0</span> │\n",
       "├──────────────────────────────────────┼─────────────────────────────┼─────────────────┤\n",
       "│ dense_1 (<span style=\"color: #0087ff; text-decoration-color: #0087ff\">Dense</span>)                      │ (<span style=\"color: #00d7ff; text-decoration-color: #00d7ff\">None</span>, <span style=\"color: #00af00; text-decoration-color: #00af00\">2</span>)                   │             <span style=\"color: #00af00; text-decoration-color: #00af00\">258</span> │\n",
       "└──────────────────────────────────────┴─────────────────────────────┴─────────────────┘\n",
       "</pre>\n"
      ],
      "text/plain": [
       "┏━━━━━━━━━━━━━━━━━━━━━━━━━━━━━━━━━━━━━━┳━━━━━━━━━━━━━━━━━━━━━━━━━━━━━┳━━━━━━━━━━━━━━━━━┓\n",
       "┃\u001b[1m \u001b[0m\u001b[1mLayer (type)                        \u001b[0m\u001b[1m \u001b[0m┃\u001b[1m \u001b[0m\u001b[1mOutput Shape               \u001b[0m\u001b[1m \u001b[0m┃\u001b[1m \u001b[0m\u001b[1m        Param #\u001b[0m\u001b[1m \u001b[0m┃\n",
       "┡━━━━━━━━━━━━━━━━━━━━━━━━━━━━━━━━━━━━━━╇━━━━━━━━━━━━━━━━━━━━━━━━━━━━━╇━━━━━━━━━━━━━━━━━┩\n",
       "│ vgg16 (\u001b[38;5;33mFunctional\u001b[0m)                   │ (\u001b[38;5;45mNone\u001b[0m, \u001b[38;5;34m8\u001b[0m, \u001b[38;5;34m8\u001b[0m, \u001b[38;5;34m512\u001b[0m)           │      \u001b[38;5;34m14,714,688\u001b[0m │\n",
       "├──────────────────────────────────────┼─────────────────────────────┼─────────────────┤\n",
       "│ flatten (\u001b[38;5;33mFlatten\u001b[0m)                    │ (\u001b[38;5;45mNone\u001b[0m, \u001b[38;5;34m32768\u001b[0m)               │               \u001b[38;5;34m0\u001b[0m │\n",
       "├──────────────────────────────────────┼─────────────────────────────┼─────────────────┤\n",
       "│ dropout (\u001b[38;5;33mDropout\u001b[0m)                    │ (\u001b[38;5;45mNone\u001b[0m, \u001b[38;5;34m32768\u001b[0m)               │               \u001b[38;5;34m0\u001b[0m │\n",
       "├──────────────────────────────────────┼─────────────────────────────┼─────────────────┤\n",
       "│ dense (\u001b[38;5;33mDense\u001b[0m)                        │ (\u001b[38;5;45mNone\u001b[0m, \u001b[38;5;34m128\u001b[0m)                 │       \u001b[38;5;34m4,194,432\u001b[0m │\n",
       "├──────────────────────────────────────┼─────────────────────────────┼─────────────────┤\n",
       "│ dropout_1 (\u001b[38;5;33mDropout\u001b[0m)                  │ (\u001b[38;5;45mNone\u001b[0m, \u001b[38;5;34m128\u001b[0m)                 │               \u001b[38;5;34m0\u001b[0m │\n",
       "├──────────────────────────────────────┼─────────────────────────────┼─────────────────┤\n",
       "│ dense_1 (\u001b[38;5;33mDense\u001b[0m)                      │ (\u001b[38;5;45mNone\u001b[0m, \u001b[38;5;34m2\u001b[0m)                   │             \u001b[38;5;34m258\u001b[0m │\n",
       "└──────────────────────────────────────┴─────────────────────────────┴─────────────────┘\n"
      ]
     },
     "metadata": {},
     "output_type": "display_data"
    },
    {
     "data": {
      "text/html": [
       "<pre style=\"white-space:pre;overflow-x:auto;line-height:normal;font-family:Menlo,'DejaVu Sans Mono',consolas,'Courier New',monospace\"><span style=\"font-weight: bold\"> Total params: </span><span style=\"color: #00af00; text-decoration-color: #00af00\">18,909,378</span> (72.13 MB)\n",
       "</pre>\n"
      ],
      "text/plain": [
       "\u001b[1m Total params: \u001b[0m\u001b[38;5;34m18,909,378\u001b[0m (72.13 MB)\n"
      ]
     },
     "metadata": {},
     "output_type": "display_data"
    },
    {
     "data": {
      "text/html": [
       "<pre style=\"white-space:pre;overflow-x:auto;line-height:normal;font-family:Menlo,'DejaVu Sans Mono',consolas,'Courier New',monospace\"><span style=\"font-weight: bold\"> Trainable params: </span><span style=\"color: #00af00; text-decoration-color: #00af00\">11,274,114</span> (43.01 MB)\n",
       "</pre>\n"
      ],
      "text/plain": [
       "\u001b[1m Trainable params: \u001b[0m\u001b[38;5;34m11,274,114\u001b[0m (43.01 MB)\n"
      ]
     },
     "metadata": {},
     "output_type": "display_data"
    },
    {
     "data": {
      "text/html": [
       "<pre style=\"white-space:pre;overflow-x:auto;line-height:normal;font-family:Menlo,'DejaVu Sans Mono',consolas,'Courier New',monospace\"><span style=\"font-weight: bold\"> Non-trainable params: </span><span style=\"color: #00af00; text-decoration-color: #00af00\">7,635,264</span> (29.13 MB)\n",
       "</pre>\n"
      ],
      "text/plain": [
       "\u001b[1m Non-trainable params: \u001b[0m\u001b[38;5;34m7,635,264\u001b[0m (29.13 MB)\n"
      ]
     },
     "metadata": {},
     "output_type": "display_data"
    },
    {
     "name": "stdout",
     "output_type": "stream",
     "text": [
      "You must install pydot (`pip install pydot`) for `plot_model` to work.\n"
     ]
    }
   ],
   "source": [
    "# We use transfer learning with VGG16 as the base model\n",
    "def CNN_Model():\n",
    "    base_model = VGG16(weights='imagenet', include_top = False, input_shape=(img_width, img_height, 3))\n",
    "    # Freeze the base model\n",
    "    for layer in base_model.layers:\n",
    "        layer.trainable = False\n",
    "    for i in range(3):\n",
    "        base_model.layers[-2-i].trainable = True\n",
    "    CNN = Sequential()\n",
    "    CNN.add(Input(shape=(img_width, img_height,3)))\n",
    "    CNN.add(base_model)\n",
    "    CNN.add(Flatten())\n",
    "    CNN.add(Dropout(0.3))\n",
    "    CNN.add(Dense(128, activation='relu', kernel_regularizer=l2(0.05)))\n",
    "    CNN.add(Dropout(0.2))\n",
    "    CNN.add(Dense(2, activation='sigmoid'))\n",
    "    return CNN\n",
    "# Training The CNN\n",
    "model = CNN_Model()\n",
    "model.compile(optimizer='adam', loss='binary_crossentropy', metrics=['accuracy'])\n",
    "model.summary()\n",
    "# Visualized Layers of CNN\n",
    "keras.utils.plot_model(model, show_shapes=True)"
   ]
  },
  {
   "cell_type": "code",
   "execution_count": 25,
   "id": "d1c938d8-2dbb-43e6-84f2-076e19a2dc72",
   "metadata": {},
   "outputs": [
    {
     "name": "stdout",
     "output_type": "stream",
     "text": [
      "Epoch 1/6\n",
      "\u001b[1m969/969\u001b[0m \u001b[32m━━━━━━━━━━━━━━━━━━━━\u001b[0m\u001b[37m\u001b[0m \u001b[1m2001s\u001b[0m 2s/step - accuracy: 0.8517 - loss: 0.9575 - val_accuracy: 0.0625 - val_loss: 6.7882\n",
      "Epoch 2/6\n",
      "\u001b[1m969/969\u001b[0m \u001b[32m━━━━━━━━━━━━━━━━━━━━\u001b[0m\u001b[37m\u001b[0m \u001b[1m1877s\u001b[0m 2s/step - accuracy: 0.9717 - loss: 0.1307 - val_accuracy: 0.0625 - val_loss: 11.8690\n",
      "Epoch 3/6\n",
      "\u001b[1m969/969\u001b[0m \u001b[32m━━━━━━━━━━━━━━━━━━━━\u001b[0m\u001b[37m\u001b[0m \u001b[1m6413s\u001b[0m 7s/step - accuracy: 0.9792 - loss: 0.1198 - val_accuracy: 0.0000e+00 - val_loss: 7.7465\n",
      "Epoch 4/6\n",
      "\u001b[1m969/969\u001b[0m \u001b[32m━━━━━━━━━━━━━━━━━━━━\u001b[0m\u001b[37m\u001b[0m \u001b[1m1879s\u001b[0m 2s/step - accuracy: 0.9853 - loss: 0.0691 - val_accuracy: 0.0625 - val_loss: 8.6849\n",
      "Epoch 5/6\n",
      "\u001b[1m969/969\u001b[0m \u001b[32m━━━━━━━━━━━━━━━━━━━━\u001b[0m\u001b[37m\u001b[0m \u001b[1m1861s\u001b[0m 2s/step - accuracy: 0.9864 - loss: 0.0692 - val_accuracy: 0.0000e+00 - val_loss: 10.6234\n",
      "Epoch 6/6\n",
      "\u001b[1m969/969\u001b[0m \u001b[32m━━━━━━━━━━━━━━━━━━━━\u001b[0m\u001b[37m\u001b[0m \u001b[1m1852s\u001b[0m 2s/step - accuracy: 0.9890 - loss: 0.0625 - val_accuracy: 0.0000e+00 - val_loss: 9.0913\n",
      "{'accuracy': [0.9254516363143921, 0.9721935391426086, 0.9790967702865601, 0.9841613173484802, 0.9864193797111511, 0.9884193539619446], 'loss': [0.37810757756233215, 0.12836380302906036, 0.10611982643604279, 0.07482451945543289, 0.06957840919494629, 0.0652572363615036], 'val_accuracy': [0.0625, 0.0625, 0.0, 0.0625, 0.0, 0.0], 'val_loss': [6.788154125213623, 11.868955612182617, 7.746467113494873, 8.684877395629883, 10.623363494873047, 9.091259956359863]}\n",
      "Best Validation score is: 0.0625\n"
     ]
    }
   ],
   "source": [
    "hist = model.fit(x_train, y_train, epochs= 6, validation_data= (x_val, y_val))\n",
    "print(hist.history)\n",
    "best_score = max(hist.history['val_accuracy'])\n",
    "print(f\"Best Validation score is: {best_score}\")"
   ]
  },
  {
   "cell_type": "code",
   "execution_count": null,
   "id": "50a83428-7e83-42a0-bf95-e5f117f234cf",
   "metadata": {},
   "outputs": [],
   "source": []
  }
 ],
 "metadata": {
  "kernelspec": {
   "display_name": "Python 3 (ipykernel)",
   "language": "python",
   "name": "python3"
  },
  "language_info": {
   "codemirror_mode": {
    "name": "ipython",
    "version": 3
   },
   "file_extension": ".py",
   "mimetype": "text/x-python",
   "name": "python",
   "nbconvert_exporter": "python",
   "pygments_lexer": "ipython3",
   "version": "3.11.8"
  }
 },
 "nbformat": 4,
 "nbformat_minor": 5
}
