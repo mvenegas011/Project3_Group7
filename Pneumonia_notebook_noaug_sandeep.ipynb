{
 "cells": [
  {
   "cell_type": "code",
   "execution_count": 43,
   "id": "0c3e8f33-03dc-49a7-af14-4a6281433263",
   "metadata": {},
   "outputs": [],
   "source": [
    "import numpy as np\n",
    "import tensorflow as tf\n",
    "from tensorflow import keras\n",
    "import matplotlib.pyplot as plt\n",
    "import seaborn as sns\n",
    "sns.set(style= \"darkgrid\", color_codes = True)\n",
    "from tensorflow.keras.applications import VGG16\n",
    "from tensorflow.keras.models import Sequential\n",
    "from tensorflow.keras.layers import Conv2D, MaxPooling2D, Dense, Flatten, Dropout, Input\n",
    "from keras.regularizers import l2\n",
    "from tensorflow.keras.metrics import Precision, Recall, BinaryAccuracy\n",
    "from sklearn.metrics import roc_curve, auc\n",
    "from tensorflow.keras.preprocessing.image import  load_img\n",
    "import warnings\n",
    "import glob\n",
    "import cv2\n",
    "import pandas as pd\n",
    "from sklearn.metrics import classification_report\n",
    "#from tensorflow.keras.preprocessing.image import ImageDataGenerator\n",
    "#import pickle"
   ]
  },
  {
   "cell_type": "code",
   "execution_count": 22,
   "id": "af237ab7-8365-47d6-82c6-69303108cb49",
   "metadata": {},
   "outputs": [
    {
     "name": "stdout",
     "output_type": "stream",
     "text": [
      "Found 16 files belonging to 2 classes.\n"
     ]
    }
   ],
   "source": [
    "# Define image size and other parameters\n",
    "img_width, img_height = 256, 256\n",
    "batchsize = 32\n",
    "epochs = 4\n",
    "num_of_class = 2\n",
    "\n",
    "validation = keras.utils.image_dataset_from_directory(\n",
    "    directory='Resources/val',\n",
    "    labels='inferred',\n",
    "    label_mode='categorical',\n",
    "    batch_size=batchsize,\n",
    "    # color_mode='grayscale',\n",
    "    image_size=(img_width, img_height),\n",
    "    seed=123)"
   ]
  },
  {
   "cell_type": "code",
   "execution_count": 23,
   "id": "ba7f2631-a5c1-43e6-8d19-f739a748b3fb",
   "metadata": {},
   "outputs": [
    {
     "name": "stdout",
     "output_type": "stream",
     "text": [
      "Found 624 files belonging to 2 classes.\n"
     ]
    }
   ],
   "source": [
    "test = keras. utils.image_dataset_from_directory(\n",
    "    directory='Resources/test',\n",
    "    labels='inferred',\n",
    "    label_mode='categorical',\n",
    "    batch_size=batchsize,\n",
    "    # color_mode='grayscale',\n",
    "    image_size=(img_width, img_height),\n",
    "    seed=123)"
   ]
  },
  {
   "cell_type": "code",
   "execution_count": 24,
   "id": "bd131c08-9e41-4f2e-9bca-ed47f21b775c",
   "metadata": {},
   "outputs": [
    {
     "name": "stdout",
     "output_type": "stream",
     "text": [
      "Found 5216 files belonging to 2 classes.\n"
     ]
    }
   ],
   "source": [
    "train = keras. utils.image_dataset_from_directory(\n",
    "    directory='Resources/train',\n",
    "    labels='inferred',\n",
    "    label_mode='categorical',\n",
    "    batch_size=batchsize,\n",
    "    # color_mode='grayscale',\n",
    "    image_size=(img_width, img_height),\n",
    "    seed=123)"
   ]
  },
  {
   "cell_type": "code",
   "execution_count": 25,
   "id": "393c5c2a-c20b-407a-98e5-efa74a74109c",
   "metadata": {},
   "outputs": [
    {
     "name": "stdout",
     "output_type": "stream",
     "text": [
      "['NORMAL', 'PNEUMONIA']\n",
      "['NORMAL', 'PNEUMONIA']\n",
      "['NORMAL', 'PNEUMONIA']\n"
     ]
    }
   ],
   "source": [
    "print(train.class_names)\n",
    "print(validation.class_names)\n",
    "print(test.class_names)"
   ]
  },
  {
   "cell_type": "code",
   "execution_count": 26,
   "id": "7294e14d-4c1e-4ab3-a56b-e46ca17120b3",
   "metadata": {},
   "outputs": [],
   "source": [
    "x_train = []\n",
    "y_train = []\n",
    "\n",
    "for feature, label in train:\n",
    "    x_train.append(feature.numpy())\n",
    "    y_train.append(label.numpy())\n",
    "\n",
    "x_train = np.concatenate(x_train, axis=0)\n",
    "y_train = np.concatenate(y_train, axis=0)\n",
    "\n",
    "y_train_df=pd.DataFrame(y_train, columns=['Normal', 'Pneumonia'])\n",
    "y_train_np=y_train_df['Pneumonia'].to_numpy()"
   ]
  },
  {
   "cell_type": "code",
   "execution_count": 27,
   "id": "b32a23d7-46f4-492a-bf76-d9d034c102a9",
   "metadata": {},
   "outputs": [],
   "source": [
    "x_train_sample=x_train[0:100]\n",
    "y_train_sample=y_train_np[0:100]"
   ]
  },
  {
   "cell_type": "code",
   "execution_count": 28,
   "id": "2ddaf708-e229-4871-94ec-82a6206c5267",
   "metadata": {},
   "outputs": [],
   "source": [
    "x_val = []\n",
    "y_val = []\n",
    "    \n",
    "for feature, label in validation:\n",
    "    x_val.append(feature.numpy())\n",
    "    y_val.append(label.numpy())\n",
    "\n",
    "x_val = np.concatenate(x_val, axis=0)\n",
    "\n",
    "y_val = np.concatenate(y_val, axis=0)\n",
    "\n",
    "y_val_df=pd.DataFrame(y_val, columns=['Normal', 'Pneumonia'])\n",
    "y_val_np=y_val_df['Pneumonia'].to_numpy()"
   ]
  },
  {
   "cell_type": "code",
   "execution_count": null,
   "id": "51d7c91a-6c98-4195-adbf-c043b5afdc15",
   "metadata": {},
   "outputs": [],
   "source": [
    "class_names = validation.class_names\n",
    "print(\"Class names:\", class_names)\n",
    "for images, labels in validation.take(1):\n",
    "    print(\"Image batch shape:\", images.shape)\n",
    "    print(\"Label batch shape:\", labels.shape)\n",
    "    print(\"Labels (one-hot):\", labels.numpy())\n",
    "# Step 5: Display some images and their one-hot encoded labels\n",
    "plt.figure(figsize=(10, 10))\n",
    "for images, labels in validation.take(1):\n",
    "    for i in range(9):\n",
    "        ax = plt.subplot(3, 3, i + 1)\n",
    "        plt.imshow(images[i].numpy().astype(\"uint8\"))\n",
    "        plt.title(f\"Label: {labels[i].numpy()}\")\n",
    "        plt.axis(\"off\")\n",
    "plt.show()"
   ]
  },
  {
   "cell_type": "code",
   "execution_count": 29,
   "id": "1b0c626f-30e1-4b53-bfcf-16cb78a191ce",
   "metadata": {},
   "outputs": [],
   "source": [
    "x_test = []\n",
    "y_test = []\n",
    "\n",
    "for feature, label in test:\n",
    "    x_test.append(feature.numpy())\n",
    "    y_test.append(label.numpy())\n",
    "\n",
    "x_test = np.concatenate(x_test, axis=0)\n",
    "y_test = np.concatenate(y_test, axis=0)\n",
    "\n",
    "y_test_df=pd.DataFrame(y_test, columns=['Normal', 'Pneumonia'])\n",
    "y_test_np=y_test_df['Pneumonia'].to_numpy()"
   ]
  },
  {
   "cell_type": "code",
   "execution_count": 30,
   "id": "f7a30d1f-f22c-4535-8513-d4e0260f3f75",
   "metadata": {},
   "outputs": [
    {
     "name": "stdout",
     "output_type": "stream",
     "text": [
      "Shape of 'x_train': (5216, 256, 256, 3)\n",
      "Shape of 'y_train_np': (5216,)\n",
      "Shape of 'x_val': (16, 256, 256, 3)\n",
      "Shape of 'y_val_np': (16,)\n",
      "Shape of 'x_test': (624, 256, 256, 3)\n",
      "Shape of 'y_test_np': (624,)\n"
     ]
    }
   ],
   "source": [
    "# check the shapes of 'x_train' and 'y_train':\n",
    "print(\"Shape of 'x_train':\", x_train.shape)\n",
    "print(\"Shape of 'y_train_np':\", y_train_np.shape)\n",
    "print(\"Shape of 'x_val':\", x_val.shape)\n",
    "print(\"Shape of 'y_val_np':\", y_val_np.shape)\n",
    "print(\"Shape of 'x_test':\", x_test.shape)\n",
    "print(\"Shape of 'y_test_np':\", y_test_np.shape)"
   ]
  },
  {
   "cell_type": "code",
   "execution_count": 31,
   "id": "421c6519-f0f5-4d99-ab98-153b09ccd323",
   "metadata": {},
   "outputs": [],
   "source": [
    "x_train=x_train/255\n",
    "x_val=x_val/255\n",
    "x_test=x_test/255"
   ]
  },
  {
   "cell_type": "code",
   "execution_count": null,
   "id": "8eac4291-e7e1-4224-bfef-9aff5fc937c8",
   "metadata": {},
   "outputs": [],
   "source": [
    "#!pip install h5py"
   ]
  },
  {
   "cell_type": "code",
   "execution_count": null,
   "id": "646c0be8-314b-492b-a814-f6eecae42ec3",
   "metadata": {},
   "outputs": [],
   "source": [
    "import h5py"
   ]
  },
  {
   "cell_type": "code",
   "execution_count": null,
   "id": "2808bb51-2cca-4eeb-9882-e433b4551f52",
   "metadata": {},
   "outputs": [],
   "source": [
    "# from tensorflow.keras.utils import to_categorical\n",
    "#  Assuming y_train contains labels 0 and 1\n",
    "y_train_sample = to_categorical(y_train_sample, num_classes=2)\n",
    "# y_train = to_categorical(y_train, num_classes=2)\n",
    "# y_train = to_categorical(y_train, num_classes=2)"
   ]
  },
  {
   "cell_type": "code",
   "execution_count": 39,
   "id": "54ed6300-9da2-4c54-a67e-07d0774945f1",
   "metadata": {},
   "outputs": [
    {
     "data": {
      "text/html": [
       "<pre style=\"white-space:pre;overflow-x:auto;line-height:normal;font-family:Menlo,'DejaVu Sans Mono',consolas,'Courier New',monospace\"><span style=\"font-weight: bold\">Model: \"sequential_4\"</span>\n",
       "</pre>\n"
      ],
      "text/plain": [
       "\u001b[1mModel: \"sequential_4\"\u001b[0m\n"
      ]
     },
     "metadata": {},
     "output_type": "display_data"
    },
    {
     "data": {
      "text/html": [
       "<pre style=\"white-space:pre;overflow-x:auto;line-height:normal;font-family:Menlo,'DejaVu Sans Mono',consolas,'Courier New',monospace\">┏━━━━━━━━━━━━━━━━━━━━━━━━━━━━━━━━━━━━━━┳━━━━━━━━━━━━━━━━━━━━━━━━━━━━━┳━━━━━━━━━━━━━━━━━┓\n",
       "┃<span style=\"font-weight: bold\"> Layer (type)                         </span>┃<span style=\"font-weight: bold\"> Output Shape                </span>┃<span style=\"font-weight: bold\">         Param # </span>┃\n",
       "┡━━━━━━━━━━━━━━━━━━━━━━━━━━━━━━━━━━━━━━╇━━━━━━━━━━━━━━━━━━━━━━━━━━━━━╇━━━━━━━━━━━━━━━━━┩\n",
       "│ vgg16 (<span style=\"color: #0087ff; text-decoration-color: #0087ff\">Functional</span>)                   │ (<span style=\"color: #00d7ff; text-decoration-color: #00d7ff\">None</span>, <span style=\"color: #00af00; text-decoration-color: #00af00\">8</span>, <span style=\"color: #00af00; text-decoration-color: #00af00\">8</span>, <span style=\"color: #00af00; text-decoration-color: #00af00\">512</span>)           │      <span style=\"color: #00af00; text-decoration-color: #00af00\">14,714,688</span> │\n",
       "├──────────────────────────────────────┼─────────────────────────────┼─────────────────┤\n",
       "│ flatten_4 (<span style=\"color: #0087ff; text-decoration-color: #0087ff\">Flatten</span>)                  │ (<span style=\"color: #00d7ff; text-decoration-color: #00d7ff\">None</span>, <span style=\"color: #00af00; text-decoration-color: #00af00\">32768</span>)               │               <span style=\"color: #00af00; text-decoration-color: #00af00\">0</span> │\n",
       "├──────────────────────────────────────┼─────────────────────────────┼─────────────────┤\n",
       "│ dropout_8 (<span style=\"color: #0087ff; text-decoration-color: #0087ff\">Dropout</span>)                  │ (<span style=\"color: #00d7ff; text-decoration-color: #00d7ff\">None</span>, <span style=\"color: #00af00; text-decoration-color: #00af00\">32768</span>)               │               <span style=\"color: #00af00; text-decoration-color: #00af00\">0</span> │\n",
       "├──────────────────────────────────────┼─────────────────────────────┼─────────────────┤\n",
       "│ dense_8 (<span style=\"color: #0087ff; text-decoration-color: #0087ff\">Dense</span>)                      │ (<span style=\"color: #00d7ff; text-decoration-color: #00d7ff\">None</span>, <span style=\"color: #00af00; text-decoration-color: #00af00\">128</span>)                 │       <span style=\"color: #00af00; text-decoration-color: #00af00\">4,194,432</span> │\n",
       "├──────────────────────────────────────┼─────────────────────────────┼─────────────────┤\n",
       "│ dropout_9 (<span style=\"color: #0087ff; text-decoration-color: #0087ff\">Dropout</span>)                  │ (<span style=\"color: #00d7ff; text-decoration-color: #00d7ff\">None</span>, <span style=\"color: #00af00; text-decoration-color: #00af00\">128</span>)                 │               <span style=\"color: #00af00; text-decoration-color: #00af00\">0</span> │\n",
       "├──────────────────────────────────────┼─────────────────────────────┼─────────────────┤\n",
       "│ dense_9 (<span style=\"color: #0087ff; text-decoration-color: #0087ff\">Dense</span>)                      │ (<span style=\"color: #00d7ff; text-decoration-color: #00d7ff\">None</span>, <span style=\"color: #00af00; text-decoration-color: #00af00\">1</span>)                   │             <span style=\"color: #00af00; text-decoration-color: #00af00\">129</span> │\n",
       "└──────────────────────────────────────┴─────────────────────────────┴─────────────────┘\n",
       "</pre>\n"
      ],
      "text/plain": [
       "┏━━━━━━━━━━━━━━━━━━━━━━━━━━━━━━━━━━━━━━┳━━━━━━━━━━━━━━━━━━━━━━━━━━━━━┳━━━━━━━━━━━━━━━━━┓\n",
       "┃\u001b[1m \u001b[0m\u001b[1mLayer (type)                        \u001b[0m\u001b[1m \u001b[0m┃\u001b[1m \u001b[0m\u001b[1mOutput Shape               \u001b[0m\u001b[1m \u001b[0m┃\u001b[1m \u001b[0m\u001b[1m        Param #\u001b[0m\u001b[1m \u001b[0m┃\n",
       "┡━━━━━━━━━━━━━━━━━━━━━━━━━━━━━━━━━━━━━━╇━━━━━━━━━━━━━━━━━━━━━━━━━━━━━╇━━━━━━━━━━━━━━━━━┩\n",
       "│ vgg16 (\u001b[38;5;33mFunctional\u001b[0m)                   │ (\u001b[38;5;45mNone\u001b[0m, \u001b[38;5;34m8\u001b[0m, \u001b[38;5;34m8\u001b[0m, \u001b[38;5;34m512\u001b[0m)           │      \u001b[38;5;34m14,714,688\u001b[0m │\n",
       "├──────────────────────────────────────┼─────────────────────────────┼─────────────────┤\n",
       "│ flatten_4 (\u001b[38;5;33mFlatten\u001b[0m)                  │ (\u001b[38;5;45mNone\u001b[0m, \u001b[38;5;34m32768\u001b[0m)               │               \u001b[38;5;34m0\u001b[0m │\n",
       "├──────────────────────────────────────┼─────────────────────────────┼─────────────────┤\n",
       "│ dropout_8 (\u001b[38;5;33mDropout\u001b[0m)                  │ (\u001b[38;5;45mNone\u001b[0m, \u001b[38;5;34m32768\u001b[0m)               │               \u001b[38;5;34m0\u001b[0m │\n",
       "├──────────────────────────────────────┼─────────────────────────────┼─────────────────┤\n",
       "│ dense_8 (\u001b[38;5;33mDense\u001b[0m)                      │ (\u001b[38;5;45mNone\u001b[0m, \u001b[38;5;34m128\u001b[0m)                 │       \u001b[38;5;34m4,194,432\u001b[0m │\n",
       "├──────────────────────────────────────┼─────────────────────────────┼─────────────────┤\n",
       "│ dropout_9 (\u001b[38;5;33mDropout\u001b[0m)                  │ (\u001b[38;5;45mNone\u001b[0m, \u001b[38;5;34m128\u001b[0m)                 │               \u001b[38;5;34m0\u001b[0m │\n",
       "├──────────────────────────────────────┼─────────────────────────────┼─────────────────┤\n",
       "│ dense_9 (\u001b[38;5;33mDense\u001b[0m)                      │ (\u001b[38;5;45mNone\u001b[0m, \u001b[38;5;34m1\u001b[0m)                   │             \u001b[38;5;34m129\u001b[0m │\n",
       "└──────────────────────────────────────┴─────────────────────────────┴─────────────────┘\n"
      ]
     },
     "metadata": {},
     "output_type": "display_data"
    },
    {
     "data": {
      "text/html": [
       "<pre style=\"white-space:pre;overflow-x:auto;line-height:normal;font-family:Menlo,'DejaVu Sans Mono',consolas,'Courier New',monospace\"><span style=\"font-weight: bold\"> Total params: </span><span style=\"color: #00af00; text-decoration-color: #00af00\">18,909,249</span> (72.13 MB)\n",
       "</pre>\n"
      ],
      "text/plain": [
       "\u001b[1m Total params: \u001b[0m\u001b[38;5;34m18,909,249\u001b[0m (72.13 MB)\n"
      ]
     },
     "metadata": {},
     "output_type": "display_data"
    },
    {
     "data": {
      "text/html": [
       "<pre style=\"white-space:pre;overflow-x:auto;line-height:normal;font-family:Menlo,'DejaVu Sans Mono',consolas,'Courier New',monospace\"><span style=\"font-weight: bold\"> Trainable params: </span><span style=\"color: #00af00; text-decoration-color: #00af00\">11,273,985</span> (43.01 MB)\n",
       "</pre>\n"
      ],
      "text/plain": [
       "\u001b[1m Trainable params: \u001b[0m\u001b[38;5;34m11,273,985\u001b[0m (43.01 MB)\n"
      ]
     },
     "metadata": {},
     "output_type": "display_data"
    },
    {
     "data": {
      "text/html": [
       "<pre style=\"white-space:pre;overflow-x:auto;line-height:normal;font-family:Menlo,'DejaVu Sans Mono',consolas,'Courier New',monospace\"><span style=\"font-weight: bold\"> Non-trainable params: </span><span style=\"color: #00af00; text-decoration-color: #00af00\">7,635,264</span> (29.13 MB)\n",
       "</pre>\n"
      ],
      "text/plain": [
       "\u001b[1m Non-trainable params: \u001b[0m\u001b[38;5;34m7,635,264\u001b[0m (29.13 MB)\n"
      ]
     },
     "metadata": {},
     "output_type": "display_data"
    }
   ],
   "source": [
    "# We use transfer learning with VGG16 as the base model\n",
    "def CNN_Model():\n",
    "    base_model = VGG16(weights='imagenet', include_top = False, input_shape=(img_width, img_height, 3))\n",
    "    # Freeze the base model\n",
    "    for layer in base_model.layers:\n",
    "        layer.trainable = False\n",
    "    for i in range(3):\n",
    "        base_model.layers[-2-i].trainable = True\n",
    "    CNN = Sequential()\n",
    "    CNN.add(Input(shape=(img_width, img_height,3)))\n",
    "    CNN.add(base_model)\n",
    "    CNN.add(Flatten())\n",
    "    CNN.add(Dropout(0.3))\n",
    "    CNN.add(Dense(128, activation='relu', kernel_regularizer=l2(0.05)))\n",
    "    CNN.add(Dropout(0.2))\n",
    "    CNN.add(Dense(1, activation='sigmoid'))\n",
    "    return CNN\n",
    "# Training The CNN\n",
    "model = CNN_Model()\n",
    "model.compile(optimizer='adam', loss='binary_crossentropy', metrics=['accuracy'])\n",
    "model.summary()\n",
    "# Visualized Layers of CNN\n",
    "# keras.utils.plot_model(model, show_shapes=True)"
   ]
  },
  {
   "cell_type": "code",
   "execution_count": 40,
   "id": "d1c938d8-2dbb-43e6-84f2-076e19a2dc72",
   "metadata": {},
   "outputs": [
    {
     "name": "stdout",
     "output_type": "stream",
     "text": [
      "Epoch 1/6\n",
      "\u001b[1m4/4\u001b[0m \u001b[32m━━━━━━━━━━━━━━━━━━━━\u001b[0m\u001b[37m\u001b[0m \u001b[1m59s\u001b[0m 13s/step - accuracy: 0.5993 - loss: 19.6396 - val_accuracy: 0.5000 - val_loss: 9.3407\n",
      "Epoch 2/6\n",
      "\u001b[1m4/4\u001b[0m \u001b[32m━━━━━━━━━━━━━━━━━━━━\u001b[0m\u001b[37m\u001b[0m \u001b[1m46s\u001b[0m 11s/step - accuracy: 0.7717 - loss: 19.3341 - val_accuracy: 0.5000 - val_loss: 6.2465\n",
      "Epoch 3/6\n",
      "\u001b[1m4/4\u001b[0m \u001b[32m━━━━━━━━━━━━━━━━━━━━\u001b[0m\u001b[37m\u001b[0m \u001b[1m43s\u001b[0m 10s/step - accuracy: 0.6010 - loss: 7.0300 - val_accuracy: 0.5000 - val_loss: 5.7613\n",
      "Epoch 4/6\n",
      "\u001b[1m4/4\u001b[0m \u001b[32m━━━━━━━━━━━━━━━━━━━━\u001b[0m\u001b[37m\u001b[0m \u001b[1m43s\u001b[0m 10s/step - accuracy: 0.8323 - loss: 5.7576 - val_accuracy: 0.5000 - val_loss: 5.7694\n",
      "Epoch 5/6\n",
      "\u001b[1m4/4\u001b[0m \u001b[32m━━━━━━━━━━━━━━━━━━━━\u001b[0m\u001b[37m\u001b[0m \u001b[1m41s\u001b[0m 10s/step - accuracy: 0.7879 - loss: 5.6709 - val_accuracy: 0.5000 - val_loss: 5.6940\n",
      "Epoch 6/6\n",
      "\u001b[1m4/4\u001b[0m \u001b[32m━━━━━━━━━━━━━━━━━━━━\u001b[0m\u001b[37m\u001b[0m \u001b[1m45s\u001b[0m 11s/step - accuracy: 0.8303 - loss: 5.7485 - val_accuracy: 0.5000 - val_loss: 5.4319\n",
      "{'accuracy': [0.6700000166893005, 0.7599999904632568, 0.6299999952316284, 0.8100000023841858, 0.7900000214576721, 0.8100000023841858], 'loss': [18.086713790893555, 15.8515043258667, 6.7726850509643555, 5.7569684982299805, 5.6362810134887695, 5.772078990936279], 'val_accuracy': [0.5, 0.5, 0.5, 0.5, 0.5, 0.5], 'val_loss': [9.340709686279297, 6.246518135070801, 5.761303901672363, 5.769439220428467, 5.694037914276123, 5.4318623542785645]}\n",
      "Best Validation score is: 0.5\n"
     ]
    }
   ],
   "source": [
    "hist = model.fit(x_train_sample, y_train_sample, epochs= 6, validation_data= (x_val, y_val_np))\n",
    "print(hist.history)\n",
    "best_score = max(hist.history['val_accuracy'])\n",
    "print(f\"Best Validation score is: {best_score}\")"
   ]
  },
  {
   "cell_type": "code",
   "execution_count": 41,
   "id": "50a83428-7e83-42a0-bf95-e5f117f234cf",
   "metadata": {},
   "outputs": [
    {
     "name": "stdout",
     "output_type": "stream",
     "text": [
      "\u001b[1m20/20\u001b[0m \u001b[32m━━━━━━━━━━━━━━━━━━━━\u001b[0m\u001b[37m\u001b[0m \u001b[1m210s\u001b[0m 11s/step - accuracy: 0.6409 - loss: 5.4210\n"
     ]
    },
    {
     "data": {
      "text/plain": [
       "[5.422791004180908, 0.625]"
      ]
     },
     "execution_count": 41,
     "metadata": {},
     "output_type": "execute_result"
    }
   ],
   "source": [
    "model.evaluate(x_test, y_test_np)"
   ]
  },
  {
   "cell_type": "code",
   "execution_count": 42,
   "id": "4e179e0e-75c3-4d7a-8d95-e69a9720b010",
   "metadata": {},
   "outputs": [
    {
     "name": "stdout",
     "output_type": "stream",
     "text": [
      "\u001b[1m20/20\u001b[0m \u001b[32m━━━━━━━━━━━━━━━━━━━━\u001b[0m\u001b[37m\u001b[0m \u001b[1m220s\u001b[0m 11s/step\n",
      "(624, 1)\n",
      "(624,)\n",
      "[0 0 0 0 0 0 0 0 0 0 0 0 0 0 0 0 0 0 0 0 0 0 0 0 0 0 0 0 0 0 0 0 0 0 0 0 0\n",
      " 0 0 0 0 0 0 0 0 0 0 0 0 0 0 0 0 0 0 0 0 0 0 0 0 0 0 0 0 0 0 0 0 0 0 0 0 0\n",
      " 0 0 0 0 0 0 0 0 0 0 0 0 0 0 0 0 0 0 0 0 0 0 0 0 0 0 0 0 0 0 0 0 0 0 0 0 0\n",
      " 0 0 0 0 0 0 0 0 0 0 0 0 0 0 0 0 0 0 0 0 0 0 0 0 0 0 0 0 0 0 0 0 0 0 0 0 0\n",
      " 0 0 0 0 0 0 0 0 0 0 0 0 0 0 0 0 0 0 0 0 0 0 0 0 0 0 0 0 0 0 0 0 0 0 0 0 0\n",
      " 0 0 0 0 0 0 0 0 0 0 0 0 0 0 0 0 0 0 0 0 0 0 0 0 0 0 0 0 0 0 0 0 0 0 0 0 0\n",
      " 0 0 0 0 0 0 0 0 0 0 0 0 0 0 0 0 0 0 0 0 0 0 0 0 0 0 0 0 0 0 0 0 0 0 0 0 0\n",
      " 0 0 0 0 0 0 0 0 0 0 0 0 0 0 0 0 0 0 0 0 0 0 0 0 0 0 0 0 0 0 0 0 0 0 0 0 0\n",
      " 0 0 0 0 0 0 0 0 0 0 0 0 0 0 0 0 0 0 0 0 0 0 0 0 0 0 0 0 0 0 0 0 0 0 0 0 0\n",
      " 0 0 0 0 0 0 0 0 0 0 0 0 0 0 0 0 0 0 0 0 0 0 0 0 0 0 0 0 0 0 0 0 0 0 0 0 0\n",
      " 0 0 0 0 0 0 0 0 0 0 0 0 0 0 0 0 0 0 0 0 0 0 0 0 0 0 0 0 0 0 0 0 0 0 0 0 0\n",
      " 0 0 0 0 0 0 0 0 0 0 0 0 0 0 0 0 0 0 0 0 0 0 0 0 0 0 0 0 0 0 0 0 0 0 0 0 0\n",
      " 0 0 0 0 0 0 0 0 0 0 0 0 0 0 0 0 0 0 0 0 0 0 0 0 0 0 0 0 0 0 0 0 0 0 0 0 0\n",
      " 0 0 0 0 0 0 0 0 0 0 0 0 0 0 0 0 0 0 0 0 0 0 0 0 0 0 0 0 0 0 0 0 0 0 0 0 0\n",
      " 0 0 0 0 0 0 0 0 0 0 0 0 0 0 0 0 0 0 0 0 0 0 0 0 0 0 0 0 0 0 0 0 0 0 0 0 0\n",
      " 0 0 0 0 0 0 0 0 0 0 0 0 0 0 0 0 0 0 0 0 0 0 0 0 0 0 0 0 0 0 0 0 0 0 0 0 0\n",
      " 0 0 0 0 0 0 0 0 0 0 0 0 0 0 0 0 0 0 0 0 0 0 0 0 0 0 0 0 0 0 0 0]\n"
     ]
    }
   ],
   "source": [
    "x_test_predict=model.predict(x_test)\n",
    "print(x_test_predict.shape)\n",
    "pred_final=np.argmax(x_test_predict,axis=1)\n",
    "print(pred_final.shape)\n",
    "print(pred_final)"
   ]
  },
  {
   "cell_type": "code",
   "execution_count": 44,
   "id": "56a67c26-da0e-433f-9809-5723b7ef9690",
   "metadata": {},
   "outputs": [
    {
     "name": "stdout",
     "output_type": "stream",
     "text": [
      "              precision    recall  f1-score   support\n",
      "\n",
      "         0.0       0.38      1.00      0.55       234\n",
      "         1.0       0.00      0.00      0.00       390\n",
      "\n",
      "    accuracy                           0.38       624\n",
      "   macro avg       0.19      0.50      0.27       624\n",
      "weighted avg       0.14      0.38      0.20       624\n",
      "\n"
     ]
    },
    {
     "name": "stderr",
     "output_type": "stream",
     "text": [
      "C:\\ProgramData\\anaconda3\\Lib\\site-packages\\sklearn\\metrics\\_classification.py:1344: UndefinedMetricWarning: Precision and F-score are ill-defined and being set to 0.0 in labels with no predicted samples. Use `zero_division` parameter to control this behavior.\n",
      "  _warn_prf(average, modifier, msg_start, len(result))\n",
      "C:\\ProgramData\\anaconda3\\Lib\\site-packages\\sklearn\\metrics\\_classification.py:1344: UndefinedMetricWarning: Precision and F-score are ill-defined and being set to 0.0 in labels with no predicted samples. Use `zero_division` parameter to control this behavior.\n",
      "  _warn_prf(average, modifier, msg_start, len(result))\n",
      "C:\\ProgramData\\anaconda3\\Lib\\site-packages\\sklearn\\metrics\\_classification.py:1344: UndefinedMetricWarning: Precision and F-score are ill-defined and being set to 0.0 in labels with no predicted samples. Use `zero_division` parameter to control this behavior.\n",
      "  _warn_prf(average, modifier, msg_start, len(result))\n"
     ]
    }
   ],
   "source": [
    "print(classification_report(y_test_np, pred_final))"
   ]
  },
  {
   "cell_type": "code",
   "execution_count": null,
   "id": "7974b03e-3f15-4432-9d71-14bd664d9807",
   "metadata": {},
   "outputs": [],
   "source": [
    "pred_final"
   ]
  }
 ],
 "metadata": {
  "kernelspec": {
   "display_name": "Python 3 (ipykernel)",
   "language": "python",
   "name": "python3"
  },
  "language_info": {
   "codemirror_mode": {
    "name": "ipython",
    "version": 3
   },
   "file_extension": ".py",
   "mimetype": "text/x-python",
   "name": "python",
   "nbconvert_exporter": "python",
   "pygments_lexer": "ipython3",
   "version": "3.11.5"
  }
 },
 "nbformat": 4,
 "nbformat_minor": 5
}
